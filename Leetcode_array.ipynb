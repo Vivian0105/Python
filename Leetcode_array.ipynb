{
 "cells": [
  {
   "cell_type": "code",
   "execution_count": null,
   "metadata": {},
   "outputs": [],
   "source": [
    "import collections"
   ]
  },
  {
   "cell_type": "markdown",
   "metadata": {},
   "source": [
    "Exercise 1854. Maximum Population Year"
   ]
  },
  {
   "cell_type": "markdown",
   "metadata": {},
   "source": [
    "solution1"
   ]
  },
  {
   "cell_type": "code",
   "execution_count": 28,
   "metadata": {},
   "outputs": [],
   "source": [
    "class Solution:\n",
    "    def maximumPopulation(self, logs):\n",
    "        year_population={}\n",
    "        for person in logs:\n",
    "            for year in range(person[0],person[1]):\n",
    "                if year in year_population.keys():\n",
    "                    year_population[year]+=1\n",
    "                else:\n",
    "                    year_population[year]=1\n",
    "        years=list(year_population.keys())\n",
    "        years.sort()\n",
    "        ordered_year_population={y:year_population[y] for y in years}\n",
    "        Maxyear = max(ordered_year_population, key=ordered_year_population.get)\n",
    "        return Maxyear"
   ]
  },
  {
   "cell_type": "code",
   "execution_count": 29,
   "metadata": {},
   "outputs": [],
   "source": [
    "S=Solution()"
   ]
  },
  {
   "cell_type": "code",
   "execution_count": 30,
   "metadata": {},
   "outputs": [
    {
     "data": {
      "text/plain": [
       "2022"
      ]
     },
     "execution_count": 30,
     "metadata": {},
     "output_type": "execute_result"
    }
   ],
   "source": [
    "S.maximumPopulation([[1982,1998],[2013,2042],[2010,2035],[2022,2050],[2047,2048]])"
   ]
  },
  {
   "cell_type": "markdown",
   "metadata": {},
   "source": [
    "solution2"
   ]
  },
  {
   "cell_type": "code",
   "execution_count": 25,
   "metadata": {},
   "outputs": [],
   "source": [
    "class Solution:\n",
    "    def maximumPopulation(self, logs):\n",
    "        year_event=[]\n",
    "        for dates in logs:\n",
    "            year_event.append([dates[0],1])\n",
    "            year_event.append([dates[1],-1])\n",
    "        year_event.sort()\n",
    "        previous_year=year_event[0][0]\n",
    "        population=0\n",
    "        max_population=0\n",
    "        for year,event in year_event:\n",
    "            if year==previous_year:\n",
    "                population+=event\n",
    "            else:\n",
    "                if population>max_population:\n",
    "                    max_population=population\n",
    "                    max_year=previous_year\n",
    "                population+=event\n",
    "                previous_year=year                   \n",
    "        return max_year"
   ]
  },
  {
   "cell_type": "markdown",
   "metadata": {},
   "source": [
    "Exercise 969. Pancake Sorting"
   ]
  },
  {
   "cell_type": "code",
   "execution_count": 2,
   "metadata": {},
   "outputs": [],
   "source": [
    "class Solution:\n",
    "    def pancakeSort(self, arr):\n",
    "        n=len(arr)\n",
    "        target=sorted(arr)\n",
    "        res=[]\n",
    "        i=len(arr)-1\n",
    "        while target!=arr:\n",
    "            a=arr[i]\n",
    "            j=target.index(a)\n",
    "            if j==len(target)-1:\n",
    "                i-=1\n",
    "            elif j==0:\n",
    "                res.append(i+1)\n",
    "                target=target[:i+1][::-1]+target[i+1:]\n",
    "                i-=1\n",
    "            else:\n",
    "                target=target[:j+1][::-1]+target[j+1:]\n",
    "                target=target[:i+1][::-1]+target[i+1:]\n",
    "                res.append(j+1)\n",
    "                res.append(i+1)\n",
    "                i-=1\n",
    "        return res[::-1]"
   ]
  },
  {
   "cell_type": "markdown",
   "metadata": {},
   "source": [
    "Exercise 1806. Minimum Number of Operations to Reinitialize a Permutation"
   ]
  },
  {
   "cell_type": "code",
   "execution_count": 20,
   "metadata": {},
   "outputs": [],
   "source": [
    "    def reinitializePermutation(n):\n",
    "        perm=list(range(n))\n",
    "        origin=list(range(n))    \n",
    "        arr=[0]*n\n",
    "        count=0\n",
    "        while True:\n",
    "            for i in range(n):\n",
    "                if i%2==0:\n",
    "                    arr[i]=perm[int(i/2)]\n",
    "                else:\n",
    "                    arr[i]=perm[int(n/2+(i-1)/2)]\n",
    "            perm=arr.copy()\n",
    "            count+=1\n",
    "            if perm==origin:\n",
    "                break\n",
    "        return count"
   ]
  },
  {
   "cell_type": "code",
   "execution_count": 22,
   "metadata": {},
   "outputs": [
    {
     "data": {
      "text/plain": [
       "6"
      ]
     },
     "execution_count": 22,
     "metadata": {},
     "output_type": "execute_result"
    }
   ],
   "source": [
    "reinitializePermutation(10)"
   ]
  },
  {
   "cell_type": "markdown",
   "metadata": {},
   "source": [
    "Exercise 1233. Remove Sub-Folders from the Filesystem"
   ]
  },
  {
   "cell_type": "code",
   "execution_count": 25,
   "metadata": {},
   "outputs": [],
   "source": [
    "    def removeSubfolders(folder):\n",
    "        folder.sort(key=lambda f: len(f))\n",
    "        seen=[]\n",
    "        for path in folder:\n",
    "            never_seen=True\n",
    "            for i in range(2,len(path)):\n",
    "                if path[i]==\"/\":\n",
    "                    if path[:i] in seen:\n",
    "                        never_seen=False\n",
    "                        break\n",
    "            if never_seen:\n",
    "                seen.append(path)\n",
    "        return seen"
   ]
  },
  {
   "cell_type": "code",
   "execution_count": 27,
   "metadata": {},
   "outputs": [
    {
     "data": {
      "text/plain": [
       "['/a/b/c', '/a/b/d', '/a/b/ca']"
      ]
     },
     "execution_count": 27,
     "metadata": {},
     "output_type": "execute_result"
    }
   ],
   "source": [
    "folder = [\"/a/b/c\",\"/a/b/ca\",\"/a/b/d\",\"/a/b/c/e\"]\n",
    "removeSubfolders(folder)"
   ]
  },
  {
   "cell_type": "code",
   "execution_count": null,
   "metadata": {},
   "outputs": [],
   "source": []
  }
 ],
 "metadata": {
  "kernelspec": {
   "display_name": "Python 3",
   "language": "python",
   "name": "python3"
  },
  "language_info": {
   "codemirror_mode": {
    "name": "ipython",
    "version": 3
   },
   "file_extension": ".py",
   "mimetype": "text/x-python",
   "name": "python",
   "nbconvert_exporter": "python",
   "pygments_lexer": "ipython3",
   "version": "3.6.5"
  }
 },
 "nbformat": 4,
 "nbformat_minor": 2
}
