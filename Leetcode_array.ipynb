{
 "cells": [
  {
   "cell_type": "code",
   "execution_count": 1,
   "metadata": {},
   "outputs": [],
   "source": [
    "import collections\n",
    "from collections import Counter"
   ]
  },
  {
   "cell_type": "markdown",
   "metadata": {},
   "source": [
    "Exercise 1854. Maximum Population Year"
   ]
  },
  {
   "cell_type": "markdown",
   "metadata": {},
   "source": [
    "solution1"
   ]
  },
  {
   "cell_type": "code",
   "execution_count": 28,
   "metadata": {},
   "outputs": [],
   "source": [
    "class Solution:\n",
    "    def maximumPopulation(self, logs):\n",
    "        year_population={}\n",
    "        for person in logs:\n",
    "            for year in range(person[0],person[1]):\n",
    "                if year in year_population.keys():\n",
    "                    year_population[year]+=1\n",
    "                else:\n",
    "                    year_population[year]=1\n",
    "        years=list(year_population.keys())\n",
    "        years.sort()\n",
    "        ordered_year_population={y:year_population[y] for y in years}\n",
    "        Maxyear = max(ordered_year_population, key=ordered_year_population.get)\n",
    "        return Maxyear"
   ]
  },
  {
   "cell_type": "code",
   "execution_count": 29,
   "metadata": {},
   "outputs": [],
   "source": [
    "S=Solution()"
   ]
  },
  {
   "cell_type": "code",
   "execution_count": 30,
   "metadata": {},
   "outputs": [
    {
     "data": {
      "text/plain": [
       "2022"
      ]
     },
     "execution_count": 30,
     "metadata": {},
     "output_type": "execute_result"
    }
   ],
   "source": [
    "S.maximumPopulation([[1982,1998],[2013,2042],[2010,2035],[2022,2050],[2047,2048]])"
   ]
  },
  {
   "cell_type": "markdown",
   "metadata": {},
   "source": [
    "solution2"
   ]
  },
  {
   "cell_type": "code",
   "execution_count": 25,
   "metadata": {},
   "outputs": [],
   "source": [
    "class Solution:\n",
    "    def maximumPopulation(self, logs):\n",
    "        year_event=[]\n",
    "        for dates in logs:\n",
    "            year_event.append([dates[0],1])\n",
    "            year_event.append([dates[1],-1])\n",
    "        year_event.sort()\n",
    "        previous_year=year_event[0][0]\n",
    "        population=0\n",
    "        max_population=0\n",
    "        for year,event in year_event:\n",
    "            if year==previous_year:\n",
    "                population+=event\n",
    "            else:\n",
    "                if population>max_population:\n",
    "                    max_population=population\n",
    "                    max_year=previous_year\n",
    "                population+=event\n",
    "                previous_year=year                   \n",
    "        return max_year"
   ]
  },
  {
   "cell_type": "markdown",
   "metadata": {},
   "source": [
    "Exercise 969. Pancake Sorting"
   ]
  },
  {
   "cell_type": "code",
   "execution_count": 2,
   "metadata": {},
   "outputs": [],
   "source": [
    "class Solution:\n",
    "    def pancakeSort(self, arr):\n",
    "        n=len(arr)\n",
    "        target=sorted(arr)\n",
    "        res=[]\n",
    "        i=len(arr)-1\n",
    "        while target!=arr:\n",
    "            a=arr[i]\n",
    "            j=target.index(a)\n",
    "            if j==len(target)-1:\n",
    "                i-=1\n",
    "            elif j==0:\n",
    "                res.append(i+1)\n",
    "                target=target[:i+1][::-1]+target[i+1:]\n",
    "                i-=1\n",
    "            else:\n",
    "                target=target[:j+1][::-1]+target[j+1:]\n",
    "                target=target[:i+1][::-1]+target[i+1:]\n",
    "                res.append(j+1)\n",
    "                res.append(i+1)\n",
    "                i-=1\n",
    "        return res[::-1]"
   ]
  },
  {
   "cell_type": "markdown",
   "metadata": {},
   "source": [
    "Exercise 1806. Minimum Number of Operations to Reinitialize a Permutation"
   ]
  },
  {
   "cell_type": "code",
   "execution_count": 20,
   "metadata": {},
   "outputs": [],
   "source": [
    "    def reinitializePermutation(n):\n",
    "        perm=list(range(n))\n",
    "        origin=list(range(n))    \n",
    "        arr=[0]*n\n",
    "        count=0\n",
    "        while True:\n",
    "            for i in range(n):\n",
    "                if i%2==0:\n",
    "                    arr[i]=perm[int(i/2)]\n",
    "                else:\n",
    "                    arr[i]=perm[int(n/2+(i-1)/2)]\n",
    "            perm=arr.copy()\n",
    "            count+=1\n",
    "            if perm==origin:\n",
    "                break\n",
    "        return count"
   ]
  },
  {
   "cell_type": "code",
   "execution_count": 22,
   "metadata": {},
   "outputs": [
    {
     "data": {
      "text/plain": [
       "6"
      ]
     },
     "execution_count": 22,
     "metadata": {},
     "output_type": "execute_result"
    }
   ],
   "source": [
    "reinitializePermutation(10)"
   ]
  },
  {
   "cell_type": "markdown",
   "metadata": {},
   "source": [
    "Exercise 1233. Remove Sub-Folders from the Filesystem"
   ]
  },
  {
   "cell_type": "code",
   "execution_count": 25,
   "metadata": {},
   "outputs": [],
   "source": [
    "    def removeSubfolders(folder):\n",
    "        folder.sort(key=lambda f: len(f))\n",
    "        seen=[]\n",
    "        for path in folder:\n",
    "            never_seen=True\n",
    "            for i in range(2,len(path)):\n",
    "                if path[i]==\"/\":\n",
    "                    if path[:i] in seen:\n",
    "                        never_seen=False\n",
    "                        break\n",
    "            if never_seen:\n",
    "                seen.append(path)\n",
    "        return seen"
   ]
  },
  {
   "cell_type": "code",
   "execution_count": 27,
   "metadata": {},
   "outputs": [
    {
     "data": {
      "text/plain": [
       "['/a/b/c', '/a/b/d', '/a/b/ca']"
      ]
     },
     "execution_count": 27,
     "metadata": {},
     "output_type": "execute_result"
    }
   ],
   "source": [
    "folder = [\"/a/b/c\",\"/a/b/ca\",\"/a/b/d\",\"/a/b/c/e\"]\n",
    "removeSubfolders(folder)"
   ]
  },
  {
   "cell_type": "markdown",
   "metadata": {},
   "source": [
    "Exercise 1338. Reduce Array Size to The Half"
   ]
  },
  {
   "cell_type": "code",
   "execution_count": 11,
   "metadata": {},
   "outputs": [],
   "source": [
    "    def minSetSize(arr):\n",
    "        num_count=Counter(arr)\n",
    "        freq=list(num_count.values())\n",
    "        freq.sort(reverse=True)\n",
    "        n=len(arr)\n",
    "        left=n\n",
    "        for i,f in enumerate(freq):\n",
    "            left-=f\n",
    "            if left<=n/2:\n",
    "                return i+1"
   ]
  },
  {
   "cell_type": "code",
   "execution_count": 12,
   "metadata": {},
   "outputs": [
    {
     "data": {
      "text/plain": [
       "2"
      ]
     },
     "execution_count": 12,
     "metadata": {},
     "output_type": "execute_result"
    }
   ],
   "source": [
    "minSetSize([3,3,3,3,3,4,5,5,6,6,6,7,7,7,7,7,7,7])"
   ]
  },
  {
   "cell_type": "markdown",
   "metadata": {},
   "source": [
    "Exercise 42. Trapping Rain Water"
   ]
  },
  {
   "cell_type": "code",
   "execution_count": 13,
   "metadata": {},
   "outputs": [],
   "source": [
    "    def trap(height):\n",
    "        n=len(height)\n",
    "        max_left=[0]*n\n",
    "        max_right=[0]*n\n",
    "        max_height=0\n",
    "        for i in range(n-1):\n",
    "            h=height[i]\n",
    "            if h>max_height:\n",
    "                max_left[i+1]=h\n",
    "                max_height=h\n",
    "            else:\n",
    "                max_left[i+1]=max_height\n",
    "        max_height=0\n",
    "        for i in range(-1,-n,-1):\n",
    "            h=height[i]\n",
    "            if h>max_height:\n",
    "                max_right[i-1]=h\n",
    "                max_height=h\n",
    "            else:\n",
    "                max_right[i-1]=max_height\n",
    "        water=0\n",
    "        for i in range(n):\n",
    "            water+=max(0,min(max_left[i],max_right[i])-height[i])\n",
    "        return water"
   ]
  },
  {
   "cell_type": "code",
   "execution_count": 14,
   "metadata": {},
   "outputs": [
    {
     "data": {
      "text/plain": [
       "6"
      ]
     },
     "execution_count": 14,
     "metadata": {},
     "output_type": "execute_result"
    }
   ],
   "source": [
    "trap([0,1,0,2,1,0,1,3,2,1,2,1])"
   ]
  },
  {
   "cell_type": "markdown",
   "metadata": {},
   "source": [
    "Solution 2: two pointers"
   ]
  },
  {
   "cell_type": "code",
   "execution_count": 15,
   "metadata": {},
   "outputs": [],
   "source": [
    "    def trap(height):\n",
    "        n=len(height)\n",
    "        l,r=0,n-1\n",
    "        max_left,max_right=height[l],height[r]\n",
    "        water=0\n",
    "        while l<r-1:\n",
    "            if max_left<=max_right:\n",
    "                l=l+1\n",
    "                water+=max(0,max_left-height[l])\n",
    "                max_left=max(max_left,height[l])\n",
    "            else:\n",
    "                r=r-1\n",
    "                water+=max(0,max_right-height[r])\n",
    "                max_right=max(max_right,height[r])\n",
    "        return water"
   ]
  },
  {
   "cell_type": "markdown",
   "metadata": {},
   "source": [
    "Exercise 238. Product of Array Except Self"
   ]
  },
  {
   "cell_type": "code",
   "execution_count": 3,
   "metadata": {},
   "outputs": [],
   "source": [
    "    def productExceptSelf(nums):\n",
    "        n=len(nums)\n",
    "        res=[1]*n\n",
    "        p=1\n",
    "        for i in range(n):\n",
    "            res[i]=p\n",
    "            p=p*nums[i]\n",
    "        p=1\n",
    "        for i in range(n-1,-1,-1):\n",
    "            res[i]=res[i]*p\n",
    "            p=p*nums[i]\n",
    "        return res"
   ]
  },
  {
   "cell_type": "code",
   "execution_count": 5,
   "metadata": {},
   "outputs": [
    {
     "data": {
      "text/plain": [
       "[-120, -60, -40, -30, -24, 120, -120]"
      ]
     },
     "execution_count": 5,
     "metadata": {},
     "output_type": "execute_result"
    }
   ],
   "source": [
    "productExceptSelf([1,2,3,4,5,-1,1])"
   ]
  },
  {
   "cell_type": "markdown",
   "metadata": {},
   "source": [
    "Exercise 442. Find All Duplicates in an Array"
   ]
  },
  {
   "cell_type": "code",
   "execution_count": 7,
   "metadata": {},
   "outputs": [],
   "source": [
    "    def findDuplicates(nums):\n",
    "        res=[]\n",
    "        for n in nums:\n",
    "            if nums[abs(n)-1]>0:\n",
    "                nums[abs(n)-1]=nums[abs(n)-1]*(-1)\n",
    "            else:\n",
    "                res.append(abs(n))\n",
    "        return res"
   ]
  },
  {
   "cell_type": "code",
   "execution_count": 8,
   "metadata": {},
   "outputs": [
    {
     "data": {
      "text/plain": [
       "[2, 3]"
      ]
     },
     "execution_count": 8,
     "metadata": {},
     "output_type": "execute_result"
    }
   ],
   "source": [
    "findDuplicates([4,3,2,7,8,2,3,1])"
   ]
  },
  {
   "cell_type": "markdown",
   "metadata": {},
   "source": [
    "64. Minimum Path Sum\n",
    "Solution: Dynamic Programming"
   ]
  },
  {
   "cell_type": "code",
   "execution_count": 2,
   "metadata": {},
   "outputs": [],
   "source": [
    "    def minPathSum(grid):\n",
    "        m,n = len(grid),len(grid[0])\n",
    "        res=[[0 for _ in range(n)] for _ in range(m)]\n",
    "        a=0\n",
    "        for j in range(n):\n",
    "            a+=grid[0][j]\n",
    "            res[0][j]=a\n",
    "        b=0\n",
    "        for i in range(m):\n",
    "            b+=grid[i][0]\n",
    "            res[i][0]=b\n",
    "        for i in range(1,m):\n",
    "            for j in range(1,n):\n",
    "                res[i][j]=min(res[i-1][j],res[i][j-1])+grid[i][j]\n",
    "        return res[-1][-1]"
   ]
  },
  {
   "cell_type": "markdown",
   "metadata": {},
   "source": [
    "Exercise 833. Find And Replace in String"
   ]
  },
  {
   "cell_type": "code",
   "execution_count": 2,
   "metadata": {},
   "outputs": [],
   "source": [
    "class Solution:\n",
    "    def sort_list(self,list1, list2):\n",
    "        zipped_pairs = zip(list2, list1)\n",
    "        z = [x for _, x in sorted(zipped_pairs)]\n",
    "        return z  \n",
    "    def findReplaceString(self, s, indexes, sources, targets): \n",
    "        sources=self.sort_list(sources,indexes)\n",
    "        targets=self.sort_list(targets,indexes)\n",
    "        indexes.sort()\n",
    "        i,j,k=0,0,0\n",
    "        n=len(s)\n",
    "        res=\"\"\n",
    "        while j<n:\n",
    "            if j<indexes[k]:\n",
    "                j+=1\n",
    "            elif j==indexes[k]:\n",
    "                m=len(sources[k])\n",
    "                if s[j:j+m]==sources[k]:\n",
    "                    res+=s[i:j]+targets[k]\n",
    "                    i=j+m\n",
    "                    j=j+m\n",
    "                    k=k+1\n",
    "                else:\n",
    "                    res+=s[i:j+m]\n",
    "                    i=j+m\n",
    "                    j=j+m\n",
    "                    k=k+1\n",
    "            if k>=len(targets):\n",
    "                break\n",
    "        if i<n:            \n",
    "            res+=s[i:]\n",
    "        return res"
   ]
  },
  {
   "cell_type": "code",
   "execution_count": 7,
   "metadata": {},
   "outputs": [],
   "source": [
    "class Solution:\n",
    "    def findReplaceString(self, s, indexes, sources, targets): \n",
    "        modified=list(s)\n",
    "        for index,source,target in sorted(zip(indexes,sources,targets)):\n",
    "            if s[index:].startswith(source):\n",
    "                modified[index]=target\n",
    "                for j in range(index+1,index+len(source)):\n",
    "                    modified[j]=\"\"\n",
    "        return \"\".join(modified)"
   ]
  },
  {
   "cell_type": "code",
   "execution_count": null,
   "metadata": {},
   "outputs": [],
   "source": []
  }
 ],
 "metadata": {
  "kernelspec": {
   "display_name": "Python 3",
   "language": "python",
   "name": "python3"
  },
  "language_info": {
   "codemirror_mode": {
    "name": "ipython",
    "version": 3
   },
   "file_extension": ".py",
   "mimetype": "text/x-python",
   "name": "python",
   "nbconvert_exporter": "python",
   "pygments_lexer": "ipython3",
   "version": "3.6.5"
  }
 },
 "nbformat": 4,
 "nbformat_minor": 2
}
