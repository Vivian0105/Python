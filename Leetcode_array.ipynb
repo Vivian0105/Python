{
 "cells": [
  {
   "cell_type": "code",
   "execution_count": null,
   "metadata": {},
   "outputs": [],
   "source": [
    "import collections"
   ]
  },
  {
   "cell_type": "markdown",
   "metadata": {},
   "source": [
    "1854. Maximum Population Year"
   ]
  },
  {
   "cell_type": "markdown",
   "metadata": {},
   "source": [
    "solution1"
   ]
  },
  {
   "cell_type": "code",
   "execution_count": 2,
   "metadata": {},
   "outputs": [],
   "source": [
    "class Solution:\n",
    "    def maximumPopulation(self, logs):\n",
    "        year_population={}\n",
    "        for person in logs:\n",
    "            for year in range(person[0],person[1]):\n",
    "                if year in year_population.keys():\n",
    "                    year_population[year]+=1\n",
    "                else:\n",
    "                    year_population[year]=1\n",
    "        years=list(year_population.keys())\n",
    "        years.sort()\n",
    "        ordered_year_population={y:year_population[y] for y in years}\n",
    "        Maxyear = max(ordered_year_population, key=ordered_year_population.get)\n",
    "        return Maxyear"
   ]
  },
  {
   "cell_type": "code",
   "execution_count": 26,
   "metadata": {},
   "outputs": [],
   "source": [
    "S=Solution()"
   ]
  },
  {
   "cell_type": "code",
   "execution_count": 27,
   "metadata": {},
   "outputs": [
    {
     "name": "stdout",
     "output_type": "stream",
     "text": [
      "[[1982, 1], [1998, -1], [2010, 1], [2013, 1], [2022, 1], [2035, -1], [2042, -1], [2047, 1], [2048, -1], [2050, -1]]\n",
      "1982 1\n",
      "1998 0\n",
      "2010 1\n",
      "2013 2\n",
      "2022 3\n",
      "2035 2\n",
      "2042 1\n",
      "2047 2\n",
      "2048 1\n"
     ]
    },
    {
     "data": {
      "text/plain": [
       "2022"
      ]
     },
     "execution_count": 27,
     "metadata": {},
     "output_type": "execute_result"
    }
   ],
   "source": [
    "S.maximumPopulation([[1982,1998],[2013,2042],[2010,2035],[2022,2050],[2047,2048]])"
   ]
  },
  {
   "cell_type": "markdown",
   "metadata": {},
   "source": [
    "solution2"
   ]
  },
  {
   "cell_type": "code",
   "execution_count": 25,
   "metadata": {},
   "outputs": [],
   "source": [
    "class Solution:\n",
    "    def maximumPopulation(self, logs):\n",
    "        year_event=[]\n",
    "        for dates in logs:\n",
    "            year_event.append([dates[0],1])\n",
    "            year_event.append([dates[1],-1])\n",
    "        year_event.sort()\n",
    "        previous_year=year_event[0][0]\n",
    "        population=0\n",
    "        max_population=0\n",
    "        for year,event in year_event:\n",
    "            if year==previous_year:\n",
    "                population+=event\n",
    "            else:\n",
    "                if population>max_population:\n",
    "                    max_population=population\n",
    "                    max_year=previous_year\n",
    "                population+=event\n",
    "                previous_year=year                   \n",
    "        return max_year"
   ]
  },
  {
   "cell_type": "markdown",
   "metadata": {},
   "source": [
    "969. Pancake Sorting"
   ]
  },
  {
   "cell_type": "code",
   "execution_count": 2,
   "metadata": {},
   "outputs": [],
   "source": [
    "class Solution:\n",
    "    def pancakeSort(self, arr):\n",
    "        n=len(arr)\n",
    "        target=sorted(arr)\n",
    "        res=[]\n",
    "        i=len(arr)-1\n",
    "        while target!=arr:\n",
    "            a=arr[i]\n",
    "            j=target.index(a)\n",
    "            if j==len(target)-1:\n",
    "                i-=1\n",
    "            elif j==0:\n",
    "                res.append(i+1)\n",
    "                target=target[:i+1][::-1]+target[i+1:]\n",
    "                i-=1\n",
    "            else:\n",
    "                target=target[:j+1][::-1]+target[j+1:]\n",
    "                target=target[:i+1][::-1]+target[i+1:]\n",
    "                res.append(j+1)\n",
    "                res.append(i+1)\n",
    "                i-=1\n",
    "        return res[::-1]"
   ]
  },
  {
   "cell_type": "code",
   "execution_count": null,
   "metadata": {},
   "outputs": [],
   "source": []
  }
 ],
 "metadata": {
  "kernelspec": {
   "display_name": "Python 3",
   "language": "python",
   "name": "python3"
  },
  "language_info": {
   "codemirror_mode": {
    "name": "ipython",
    "version": 3
   },
   "file_extension": ".py",
   "mimetype": "text/x-python",
   "name": "python",
   "nbconvert_exporter": "python",
   "pygments_lexer": "ipython3",
   "version": "3.6.5"
  }
 },
 "nbformat": 4,
 "nbformat_minor": 2
}
