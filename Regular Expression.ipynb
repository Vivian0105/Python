{
 "cells": [
  {
   "cell_type": "code",
   "execution_count": 1,
   "metadata": {},
   "outputs": [],
   "source": [
    "import re"
   ]
  },
  {
   "cell_type": "markdown",
   "metadata": {},
   "source": [
    "Detect Floating Point Number"
   ]
  },
  {
   "cell_type": "code",
   "execution_count": 2,
   "metadata": {},
   "outputs": [
    {
     "name": "stdout",
     "output_type": "stream",
     "text": [
      "4\n",
      "1.09\n",
      "True\n",
      "+.789\n",
      "True\n",
      "-890.0\n",
      "True\n",
      "+209\n",
      "False\n"
     ]
    }
   ],
   "source": [
    "pattern=r\"^[+-]?\\d*\\.\\d+$\"\n",
    "N=int(input())\n",
    "for _ in range(N):\n",
    "    s=input()\n",
    "    if re.match(pattern,s):\n",
    "        print(True)\n",
    "    else:\n",
    "        print(False)"
   ]
  },
  {
   "cell_type": "code",
   "execution_count": 12,
   "metadata": {},
   "outputs": [
    {
     "data": {
      "text/plain": [
       "['3a', '4wak', '5e']"
      ]
     },
     "execution_count": 12,
     "metadata": {},
     "output_type": "execute_result"
    }
   ],
   "source": [
    "pattern=r\"\\d[a-z]+\"\n",
    "list(map(lambda x: x.group(),re.finditer(pattern,\"3a4wak5e\")))"
   ]
  },
  {
   "cell_type": "code",
   "execution_count": 13,
   "metadata": {},
   "outputs": [
    {
     "data": {
      "text/plain": [
       "['3a', '4wak', '5e']"
      ]
     },
     "execution_count": 13,
     "metadata": {},
     "output_type": "execute_result"
    }
   ],
   "source": [
    "re.findall(pattern,\"3a4wak5e\")"
   ]
  },
  {
   "cell_type": "markdown",
   "metadata": {},
   "source": [
    "find all the substrings of that contains 2 or more vowels.\n",
    "Also, these substrings must lie in between consonants and should contain vowels only."
   ]
  },
  {
   "cell_type": "code",
   "execution_count": 25,
   "metadata": {},
   "outputs": [
    {
     "name": "stdout",
     "output_type": "stream",
     "text": [
      "Did you ever seen a goose kissing a moose. Down by the bay. Wooo...\n",
      "ee\n",
      "oo\n",
      "oo\n"
     ]
    }
   ],
   "source": [
    "v='[aeiou]'\n",
    "c='[QWRTYPSDFGHJKLZXCVBNM]'\n",
    "pattern=r\"(?<=%s)%s{2,}(?=%s)\"%(c,v,c)\n",
    "m=re.findall(pattern,input(),re.I)\n",
    "print(\"\\n\".join(m or [\"-1\"]))"
   ]
  },
  {
   "cell_type": "code",
   "execution_count": null,
   "metadata": {},
   "outputs": [],
   "source": []
  }
 ],
 "metadata": {
  "kernelspec": {
   "display_name": "Python 3",
   "language": "python",
   "name": "python3"
  },
  "language_info": {
   "codemirror_mode": {
    "name": "ipython",
    "version": 3
   },
   "file_extension": ".py",
   "mimetype": "text/x-python",
   "name": "python",
   "nbconvert_exporter": "python",
   "pygments_lexer": "ipython3",
   "version": "3.6.5"
  }
 },
 "nbformat": 4,
 "nbformat_minor": 2
}
