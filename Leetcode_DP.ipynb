{
 "cells": [
  {
   "cell_type": "markdown",
   "metadata": {},
   "source": [
    "Exercise 338. Counting Bits"
   ]
  },
  {
   "cell_type": "markdown",
   "metadata": {},
   "source": [
    "Solution 1. O(NlogN)"
   ]
  },
  {
   "cell_type": "code",
   "execution_count": 5,
   "metadata": {},
   "outputs": [],
   "source": [
    "    def countBits(n):\n",
    "        res=[]\n",
    "        for i in range(n+1):\n",
    "            res.append(bin(i).count(\"1\"))\n",
    "        return res"
   ]
  },
  {
   "cell_type": "markdown",
   "metadata": {},
   "source": [
    "Solution 2. Dynamic Programming   O(N)"
   ]
  },
  {
   "cell_type": "code",
   "execution_count": null,
   "metadata": {},
   "outputs": [],
   "source": [
    "    def countBits(n):\n",
    "        res=[0]\n",
    "        for i in range(1,n+1):\n",
    "            if i%2==1:\n",
    "                res.append(res[i-1]+1)\n",
    "            else:\n",
    "                res.append(int(res[i/2]))\n",
    "        return res"
   ]
  },
  {
   "cell_type": "markdown",
   "metadata": {},
   "source": [
    "Exercise 70. Climbing Stairs"
   ]
  },
  {
   "cell_type": "code",
   "execution_count": 1,
   "metadata": {},
   "outputs": [],
   "source": [
    "    def climbStairs(n):\n",
    "        if n==1:\n",
    "            return 1\n",
    "        if n==2:\n",
    "            return 2\n",
    "        ways=[0 for _ in range(n)]\n",
    "        ways[0],ways[1]=1,2\n",
    "        for i in range(2,n):\n",
    "            ways[i]=ways[i-1]+ways[i-2]\n",
    "        return ways[-1]"
   ]
  },
  {
   "cell_type": "code",
   "execution_count": 2,
   "metadata": {},
   "outputs": [],
   "source": [
    "    def climbStairs(n):\n",
    "        if n==1:\n",
    "            return 1\n",
    "        a,b=1,2\n",
    "        for _ in range(n-1):\n",
    "            a,b=b,a+b\n",
    "        return a"
   ]
  },
  {
   "cell_type": "markdown",
   "metadata": {},
   "source": [
    "Exercise 1884. Egg Drop With 2 Eggs and N Floors"
   ]
  },
  {
   "cell_type": "code",
   "execution_count": 1,
   "metadata": {},
   "outputs": [],
   "source": [
    "    def twoEggDrop(n):\n",
    "        res=[0 for _ in range(n+1)]\n",
    "        res[1]=1\n",
    "        for i in range(2,n+1):\n",
    "            min_step=1000\n",
    "            for j in range(1,i):\n",
    "                step=max(1+(j-1),1+res[i-j])\n",
    "                if step<min_step:\n",
    "                    min_step=step\n",
    "            res[i]=min_step\n",
    "        print(res)\n",
    "        return res[-1]"
   ]
  },
  {
   "cell_type": "code",
   "execution_count": 2,
   "metadata": {},
   "outputs": [
    {
     "name": "stdout",
     "output_type": "stream",
     "text": [
      "[0, 1, 2, 2, 3, 3, 3, 4, 4, 4, 4, 5, 5, 5, 5, 5, 6, 6, 6, 6, 6, 6, 7, 7, 7, 7, 7, 7, 7, 8, 8, 8, 8, 8, 8, 8, 8, 9, 9, 9, 9, 9, 9, 9, 9, 9, 10, 10, 10, 10, 10, 10, 10, 10, 10, 10, 11, 11, 11, 11, 11, 11, 11, 11, 11, 11, 11, 12, 12, 12, 12, 12, 12, 12, 12, 12, 12, 12, 12, 13, 13, 13, 13, 13, 13, 13, 13, 13, 13, 13, 13, 13, 14, 14, 14, 14, 14, 14, 14, 14, 14, 14, 14, 14, 14, 14, 15, 15, 15, 15, 15, 15, 15, 15, 15, 15, 15, 15, 15, 15, 15, 16, 16, 16, 16, 16, 16, 16, 16, 16, 16, 16, 16, 16, 16, 16, 16, 17, 17, 17, 17, 17, 17, 17, 17, 17, 17, 17, 17, 17, 17, 17, 17, 17, 18, 18, 18, 18, 18, 18, 18, 18, 18, 18, 18, 18, 18, 18, 18, 18, 18, 18, 19, 19, 19, 19, 19, 19, 19, 19, 19, 19, 19, 19, 19, 19, 19, 19, 19, 19, 19, 20, 20, 20, 20, 20, 20, 20, 20, 20, 20]\n"
     ]
    },
    {
     "data": {
      "text/plain": [
       "20"
      ]
     },
     "execution_count": 2,
     "metadata": {},
     "output_type": "execute_result"
    }
   ],
   "source": [
    "twoEggDrop(200)"
   ]
  },
  {
   "cell_type": "markdown",
   "metadata": {},
   "source": [
    "Exercise 1140. Stone Game II"
   ]
  },
  {
   "cell_type": "code",
   "execution_count": 27,
   "metadata": {},
   "outputs": [],
   "source": [
    "def stoneGameII(piles):\n",
    "    N=len(piles)\n",
    "    for i in range(N-2,-1,-1):\n",
    "        piles[i]+=piles[i+1]\n",
    "    from functools import lru_cache\n",
    "    @lru_cache(None)\n",
    "    def dp(i,m):\n",
    "        if i+2*m>=N:\n",
    "            return piles[i]\n",
    "        else:\n",
    "            return piles[i]-min(dp(i+x,max(m,x)) for x in range(1,2*m+1))\n",
    "    return dp(0,1)"
   ]
  },
  {
   "cell_type": "code",
   "execution_count": 28,
   "metadata": {},
   "outputs": [
    {
     "data": {
      "text/plain": [
       "10"
      ]
     },
     "execution_count": 28,
     "metadata": {},
     "output_type": "execute_result"
    }
   ],
   "source": [
    "stoneGameII([2,7,9,4,4])"
   ]
  },
  {
   "cell_type": "markdown",
   "metadata": {},
   "source": [
    "Exercise 877. Stone Game\n",
    "Solution 1. Minmax"
   ]
  },
  {
   "cell_type": "code",
   "execution_count": 79,
   "metadata": {},
   "outputs": [],
   "source": [
    "    def stoneGame(piles):\n",
    "        N=len(piles)\n",
    "        from functools import lru_cache\n",
    "        @lru_cache(None)\n",
    "        def dp(i,j):\n",
    "            if len(piles[i:j])==1:\n",
    "                return piles[i]\n",
    "            else:\n",
    "                return max(sum(piles[i:j])-dp(i+1,j), sum(piles[i:j])-dp(i,j-1))\n",
    "        return (sum(piles)/2)<dp(0,N)"
   ]
  },
  {
   "cell_type": "code",
   "execution_count": 80,
   "metadata": {},
   "outputs": [
    {
     "data": {
      "text/plain": [
       "True"
      ]
     },
     "execution_count": 80,
     "metadata": {},
     "output_type": "execute_result"
    }
   ],
   "source": [
    "stoneGame([5,3,4,5])"
   ]
  },
  {
   "cell_type": "markdown",
   "metadata": {},
   "source": [
    "Exercise 983. Minimum Cost For Tickets"
   ]
  },
  {
   "cell_type": "code",
   "execution_count": 81,
   "metadata": {},
   "outputs": [],
   "source": [
    "    def mincostTickets(days, costs):\n",
    "        dp=[0 for _ in range(days[-1]+1)]\n",
    "        for i in range(1,days[-1]+1):\n",
    "            if i not in days:\n",
    "                dp[i]=dp[i-1]\n",
    "            else:\n",
    "                choice1=dp[i-1]+costs[0]\n",
    "                if i-7>=0:\n",
    "                    choice2=dp[i-7]+costs[1]\n",
    "                else:\n",
    "                    choice2=costs[1]\n",
    "                if i-30>=0:\n",
    "                    choice3=dp[i-30]+costs[2]\n",
    "                else:\n",
    "                    choice3=costs[2]\n",
    "                dp[i]=min(choice1,choice2,choice3)\n",
    "        return dp[-1]"
   ]
  },
  {
   "cell_type": "code",
   "execution_count": null,
   "metadata": {},
   "outputs": [],
   "source": []
  }
 ],
 "metadata": {
  "kernelspec": {
   "display_name": "Python 3",
   "language": "python",
   "name": "python3"
  },
  "language_info": {
   "codemirror_mode": {
    "name": "ipython",
    "version": 3
   },
   "file_extension": ".py",
   "mimetype": "text/x-python",
   "name": "python",
   "nbconvert_exporter": "python",
   "pygments_lexer": "ipython3",
   "version": "3.6.5"
  }
 },
 "nbformat": 4,
 "nbformat_minor": 2
}
