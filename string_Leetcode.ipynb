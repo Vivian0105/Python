{
 "cells": [
  {
   "cell_type": "markdown",
   "metadata": {},
   "source": [
    "Exercise 1662. Check If Two String Arrays are Equivalent"
   ]
  },
  {
   "cell_type": "code",
   "execution_count": 10,
   "metadata": {},
   "outputs": [],
   "source": [
    "def generate(words):\n",
    "    for word in words:\n",
    "        for letter in word:\n",
    "            yield letter\n",
    "    yield None\n",
    "def arrayStringsAreEqual(word1, word2):\n",
    "    for c1,c2 in zip(generate(word1),generate(word2)):\n",
    "        if c1!=c2:\n",
    "            return False\n",
    "    return True"
   ]
  },
  {
   "cell_type": "code",
   "execution_count": 12,
   "metadata": {},
   "outputs": [
    {
     "data": {
      "text/plain": [
       "False"
      ]
     },
     "execution_count": 12,
     "metadata": {},
     "output_type": "execute_result"
    }
   ],
   "source": [
    "arrayStringsAreEqual(word1 = [\"a\", \"cb\"], word2 = [\"ab\", \"c\"])"
   ]
  },
  {
   "cell_type": "markdown",
   "metadata": {},
   "source": [
    "Solution Two:"
   ]
  },
  {
   "cell_type": "code",
   "execution_count": 13,
   "metadata": {},
   "outputs": [],
   "source": [
    "    def arrayStringsAreEqual(word1, word2):\n",
    "        return \"\".join(word1)==\"\".join(word2)"
   ]
  },
  {
   "cell_type": "markdown",
   "metadata": {},
   "source": [
    "Exercise 609. Find Duplicate File in System"
   ]
  },
  {
   "cell_type": "code",
   "execution_count": 14,
   "metadata": {},
   "outputs": [],
   "source": [
    "    def findDuplicate(paths):\n",
    "        path_dic={}\n",
    "        for path in paths:\n",
    "            path=path.split(\" \")\n",
    "            n=len(path)\n",
    "            for i in range(1,n):\n",
    "                file=path[i].split(\"(\")\n",
    "                if file[-1][:-1] in path_dic.keys():\n",
    "                    path_dic[file[-1][:-1]].append(path[0]+\"/\"+file[0])\n",
    "                else:\n",
    "                    path_dic[file[-1][:-1]]=[path[0]+\"/\"+file[0]]\n",
    "        res=[]\n",
    "        for key,value in path_dic.items():\n",
    "            if len(value)>=2:\n",
    "                res.append(value)\n",
    "        return res"
   ]
  },
  {
   "cell_type": "code",
   "execution_count": null,
   "metadata": {},
   "outputs": [],
   "source": []
  }
 ],
 "metadata": {
  "kernelspec": {
   "display_name": "Python 3",
   "language": "python",
   "name": "python3"
  },
  "language_info": {
   "codemirror_mode": {
    "name": "ipython",
    "version": 3
   },
   "file_extension": ".py",
   "mimetype": "text/x-python",
   "name": "python",
   "nbconvert_exporter": "python",
   "pygments_lexer": "ipython3",
   "version": "3.6.5"
  }
 },
 "nbformat": 4,
 "nbformat_minor": 2
}
