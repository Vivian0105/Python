{
 "cells": [
  {
   "cell_type": "markdown",
   "metadata": {},
   "source": [
    "Exercise 1662. Check If Two String Arrays are Equivalent"
   ]
  },
  {
   "cell_type": "code",
   "execution_count": 10,
   "metadata": {},
   "outputs": [],
   "source": [
    "def generate(words):\n",
    "    for word in words:\n",
    "        for letter in word:\n",
    "            yield letter\n",
    "    yield None\n",
    "def arrayStringsAreEqual(word1, word2):\n",
    "    for c1,c2 in zip(generate(word1),generate(word2)):\n",
    "        if c1!=c2:\n",
    "            return False\n",
    "    return True"
   ]
  },
  {
   "cell_type": "code",
   "execution_count": 12,
   "metadata": {},
   "outputs": [
    {
     "data": {
      "text/plain": [
       "False"
      ]
     },
     "execution_count": 12,
     "metadata": {},
     "output_type": "execute_result"
    }
   ],
   "source": [
    "arrayStringsAreEqual(word1 = [\"a\", \"cb\"], word2 = [\"ab\", \"c\"])"
   ]
  },
  {
   "cell_type": "markdown",
   "metadata": {},
   "source": [
    "Solution Two:"
   ]
  },
  {
   "cell_type": "code",
   "execution_count": 13,
   "metadata": {},
   "outputs": [],
   "source": [
    "    def arrayStringsAreEqual(word1, word2):\n",
    "        return \"\".join(word1)==\"\".join(word2)"
   ]
  },
  {
   "cell_type": "markdown",
   "metadata": {},
   "source": [
    "Exercise 609. Find Duplicate File in System"
   ]
  },
  {
   "cell_type": "code",
   "execution_count": 14,
   "metadata": {},
   "outputs": [],
   "source": [
    "    def findDuplicate(paths):\n",
    "        path_dic={}\n",
    "        for path in paths:\n",
    "            path=path.split(\" \")\n",
    "            n=len(path)\n",
    "            for i in range(1,n):\n",
    "                file=path[i].split(\"(\")\n",
    "                if file[-1][:-1] in path_dic.keys():\n",
    "                    path_dic[file[-1][:-1]].append(path[0]+\"/\"+file[0])\n",
    "                else:\n",
    "                    path_dic[file[-1][:-1]]=[path[0]+\"/\"+file[0]]\n",
    "        res=[]\n",
    "        for key,value in path_dic.items():\n",
    "            if len(value)>=2:\n",
    "                res.append(value)\n",
    "        return res"
   ]
  },
  {
   "cell_type": "markdown",
   "metadata": {},
   "source": [
    "Exercise 537. Complex Number Multiplication"
   ]
  },
  {
   "cell_type": "code",
   "execution_count": 1,
   "metadata": {},
   "outputs": [],
   "source": [
    "    def complexNumberMultiply(num1,num2):\n",
    "        n1_real,n1_i=map(int,num1[:-1].split(\"+\"))\n",
    "        n2_real,n2_i=map(int,num2[:-1].split(\"+\"))\n",
    "        res_real=n1_real*n2_real-n1_i*n2_i\n",
    "        rel_i=n1_real*n2_i+n2_real*n1_i\n",
    "        return str(res_real)+\"+\"+str(rel_i)+\"i\"  "
   ]
  },
  {
   "cell_type": "code",
   "execution_count": 2,
   "metadata": {},
   "outputs": [
    {
     "data": {
      "text/plain": [
       "'13+-11i'"
      ]
     },
     "execution_count": 2,
     "metadata": {},
     "output_type": "execute_result"
    }
   ],
   "source": [
    "complexNumberMultiply(\"1+3i\",\"-2+-5i\")"
   ]
  },
  {
   "cell_type": "markdown",
   "metadata": {},
   "source": [
    "Exercise 1410. HTML Entity Parser"
   ]
  },
  {
   "cell_type": "code",
   "execution_count": 3,
   "metadata": {},
   "outputs": [],
   "source": [
    "    def entityParser(text):\n",
    "        html_symbol = [ '&quot;', '&apos;', '&gt;', '&lt;', '&frasl;', '&amp;']\n",
    "        formal_symbol = [ '\"', \"'\", '>', '<', '/', '&']\n",
    "        for html_sym, formal_sym in zip(html_symbol,formal_symbol):\n",
    "            text=text.replace(html_sym,formal_sym)\n",
    "        return text"
   ]
  },
  {
   "cell_type": "code",
   "execution_count": 4,
   "metadata": {},
   "outputs": [
    {
     "data": {
      "text/plain": [
       "'& is an HTML entity but &ambassador; is not.'"
      ]
     },
     "execution_count": 4,
     "metadata": {},
     "output_type": "execute_result"
    }
   ],
   "source": [
    "entityParser(\"&amp; is an HTML entity but &ambassador; is not.\")"
   ]
  },
  {
   "cell_type": "code",
   "execution_count": 6,
   "metadata": {},
   "outputs": [
    {
     "data": {
      "text/plain": [
       "0"
      ]
     },
     "execution_count": 6,
     "metadata": {},
     "output_type": "execute_result"
    }
   ],
   "source": [
    "v=['a','e','i','o']\n",
    "v.index(\"a\")"
   ]
  },
  {
   "cell_type": "code",
   "execution_count": 7,
   "metadata": {},
   "outputs": [
    {
     "name": "stdout",
     "output_type": "stream",
     "text": [
      "0 I\n",
      "1 l\n",
      "2 o\n",
      "3 v\n",
      "4 e\n",
      "5 y\n",
      "6 o\n",
      "7 u\n"
     ]
    }
   ],
   "source": [
    "word=\"Iloveyou\"\n",
    "for hi, c in enumerate(word):\n",
    "    print(hi,c)"
   ]
  },
  {
   "cell_type": "code",
   "execution_count": null,
   "metadata": {},
   "outputs": [],
   "source": []
  }
 ],
 "metadata": {
  "kernelspec": {
   "display_name": "Python 3",
   "language": "python",
   "name": "python3"
  },
  "language_info": {
   "codemirror_mode": {
    "name": "ipython",
    "version": 3
   },
   "file_extension": ".py",
   "mimetype": "text/x-python",
   "name": "python",
   "nbconvert_exporter": "python",
   "pygments_lexer": "ipython3",
   "version": "3.6.5"
  }
 },
 "nbformat": 4,
 "nbformat_minor": 2
}
