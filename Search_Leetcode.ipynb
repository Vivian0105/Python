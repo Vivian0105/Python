{
 "cells": [
  {
   "cell_type": "markdown",
   "metadata": {},
   "source": [
    "Exercise 690. Employee Importance"
   ]
  },
  {
   "cell_type": "code",
   "execution_count": 1,
   "metadata": {},
   "outputs": [],
   "source": [
    "\"\"\"\n",
    "# Definition for Employee.\n",
    "class Employee:\n",
    "    def __init__(self, id: int, importance: int, subordinates: List[int]):\n",
    "        self.id = id\n",
    "        self.importance = importance\n",
    "        self.subordinates = subordinates\n",
    "\"\"\"\n",
    "\n",
    "class Solution:\n",
    "    def getImportance(self, employees, id):\n",
    "        employees_importance={}\n",
    "        for employee in employees:\n",
    "            employees_importance[employee.id]=[employee.importance,employee.subordinates]\n",
    "        res=0\n",
    "        res+=employees_importance[id][0]\n",
    "        ids=employees_importance[id][1]\n",
    "        while len(ids)>0:\n",
    "            i=ids[0]\n",
    "            res+=employees_importance[i][0]\n",
    "            ids+=employees_importance[i][1]\n",
    "            ids.remove(i)\n",
    "        return res\n",
    "                "
   ]
  },
  {
   "cell_type": "code",
   "execution_count": 3,
   "metadata": {},
   "outputs": [],
   "source": [
    "# Solution 2\n",
    "class Solution:\n",
    "    def getImportance(self, employees, id):\n",
    "        employees_importance={}\n",
    "        for employee in employees:\n",
    "            employees_importance[employee.id]=[employee.importance,employee.subordinates]\n",
    "        def helper(i):\n",
    "            return employees_importance[i][0]+sum(helper(j) for j in employees_importance[i][1])\n",
    "        return helper(id)"
   ]
  },
  {
   "cell_type": "markdown",
   "metadata": {},
   "source": [
    "Exercise 112. Path Sum"
   ]
  },
  {
   "cell_type": "code",
   "execution_count": 4,
   "metadata": {},
   "outputs": [],
   "source": [
    "# Definition for a binary tree node.\n",
    "# class TreeNode:\n",
    "#     def __init__(self, val=0, left=None, right=None):\n",
    "#         self.val = val\n",
    "#         self.left = left\n",
    "#         self.right = right\n",
    "class Solution:\n",
    "    def hasPathSum(self, root, targetSum):\n",
    "        if not root:\n",
    "            return False\n",
    "        stack=[[root,root.val]]\n",
    "        while stack:\n",
    "            current,val=stack.pop()\n",
    "            if current.left==None and current.right==None and val==targetSum:\n",
    "                return True\n",
    "            if current.left:\n",
    "                stack.append([current.left,current.left.val+val])\n",
    "            if current.right:\n",
    "                stack.append([current.right,current.right.val+val])\n",
    "        return False"
   ]
  },
  {
   "cell_type": "code",
   "execution_count": 5,
   "metadata": {},
   "outputs": [],
   "source": [
    "# Solution 2\n",
    "class Solution:\n",
    "    def hasPathSum(self, root, targetSum):\n",
    "        if not root:\n",
    "            return False\n",
    "        if root.left==None and root.right==None and root.val==targetSum:\n",
    "            return True\n",
    "        else:\n",
    "            val=targetSum-root.val\n",
    "            return self.hasPathSum(root.left,val) or self.hasPathSum(root.right,val)"
   ]
  },
  {
   "cell_type": "markdown",
   "metadata": {},
   "source": [
    "Exercise 101. Symmetric Tree"
   ]
  },
  {
   "cell_type": "code",
   "execution_count": 4,
   "metadata": {},
   "outputs": [],
   "source": [
    "# Definition for a binary tree node.\n",
    "# class TreeNode:\n",
    "#     def __init__(self, val=0, left=None, right=None):\n",
    "#         self.val = val\n",
    "#         self.left = left\n",
    "#         self.right = right\n",
    "class Solution:\n",
    "    def isSymmetric(self, root):\n",
    "        if not root:\n",
    "            return True\n",
    "        if root.left==None and root.right==None:\n",
    "            return True\n",
    "        elif root.left==None or root.right==None:\n",
    "            return False\n",
    "        else:\n",
    "            stack1=[root.left]\n",
    "            stack2=[root.right]\n",
    "        while len(stack1)>0 or len(stack2)>0:\n",
    "            current1=stack1.pop()\n",
    "            current2=stack2.pop()\n",
    "            if current1.val!=current2.val:\n",
    "                return False\n",
    "            else:\n",
    "                if current1.left==None and current2.right!=None:\n",
    "                    return False\n",
    "                elif current1.left!=None and current2.right==None:\n",
    "                    return False\n",
    "                elif current1.left!=None and current2.right!=None:\n",
    "                    stack1.append(current1.left)\n",
    "                    stack2.append(current2.right)\n",
    "                if current1.right==None and current2.left!=None:\n",
    "                    return False\n",
    "                elif current1.right!=None and current2.left==None:\n",
    "                    return False\n",
    "                elif current1.right!=None and current2.left!=None:\n",
    "                    stack1.append(current1.right)\n",
    "                    stack2.append(current2.left)\n",
    "        if len(stack1)+len(stack2)>0:\n",
    "            return False\n",
    "        else:\n",
    "            return True"
   ]
  },
  {
   "cell_type": "markdown",
   "metadata": {},
   "source": [
    "Exercise 111. Minimum Depth of Binary Tree"
   ]
  },
  {
   "cell_type": "code",
   "execution_count": 5,
   "metadata": {},
   "outputs": [],
   "source": [
    "class Solution:\n",
    "    def minDepth(self, root) -> int:\n",
    "        if not root:\n",
    "            return 0\n",
    "        if root.left==None and root.right==None:\n",
    "            return 1\n",
    "        elif root.left==None:\n",
    "            return self.minDepth(root.right)+1\n",
    "        elif root.right==None:\n",
    "            return self.minDepth(root.left)+1\n",
    "        return min(self.minDepth(root.left)+1,self.minDepth(root.right)+1)"
   ]
  },
  {
   "cell_type": "markdown",
   "metadata": {},
   "source": [
    "Exercise 1038. Binary Search Tree to Greater Sum Tree"
   ]
  },
  {
   "cell_type": "code",
   "execution_count": 6,
   "metadata": {},
   "outputs": [],
   "source": [
    "# Definition for a binary tree node.\n",
    "# class TreeNode:\n",
    "#     def __init__(self, val=0, left=None, right=None):\n",
    "#         self.val = val\n",
    "#         self.left = left\n",
    "#         self.right = right\n",
    "class Solution:\n",
    "    def bstToGst(self, root):\n",
    "        if not root:\n",
    "            return root\n",
    "        stack=[root]\n",
    "        changed=[]\n",
    "        accumulative_sum=0\n",
    "        while len(stack)!=0:\n",
    "            print(len(stack))\n",
    "            current=stack[-1]\n",
    "            if current.right!=None and (current.right not in changed):\n",
    "                stack.append(current.right)\n",
    "            elif (current.right==None or current.right in changed) and (current.left==None or current.left in changed):\n",
    "                current.val+=accumulative_sum\n",
    "                accumulative_sum=current.val\n",
    "                changed.append(current)\n",
    "                stack.pop()\n",
    "            elif current.left!=None and (current.left not in changed):\n",
    "                current.val+=accumulative_sum\n",
    "                accumulative_sum=current.val\n",
    "                stack.pop()\n",
    "                changed.append(current)\n",
    "                stack.append(current.left)\n",
    "        return root"
   ]
  },
  {
   "cell_type": "markdown",
   "metadata": {},
   "source": [
    "Exercise 797. All Paths From Source to Target"
   ]
  },
  {
   "cell_type": "code",
   "execution_count": 2,
   "metadata": {},
   "outputs": [],
   "source": [
    "class Solution:\n",
    "    def allPathsSourceTarget(self, graph):\n",
    "        N=len(graph)-1\n",
    "        paths=[[0]]\n",
    "        res=[]\n",
    "        while paths:\n",
    "            p=paths.pop()\n",
    "            if p[-1]==N:\n",
    "                res.append(p)\n",
    "            else:\n",
    "                for d in graph[p[-1]]:\n",
    "                    paths.append(p+[d])\n",
    "        return res     "
   ]
  },
  {
   "cell_type": "markdown",
   "metadata": {},
   "source": [
    "Exercise 1448. Count Good Nodes in Binary Tree"
   ]
  },
  {
   "cell_type": "code",
   "execution_count": 3,
   "metadata": {},
   "outputs": [],
   "source": [
    "class Solution:\n",
    "    def goodNodes(self, root):\n",
    "        res=0\n",
    "        stack=[[root,root.val]]\n",
    "        while stack:\n",
    "            current,max_val=stack.pop()\n",
    "            if max_val<=current.val:\n",
    "                res+=1\n",
    "            if current.left:\n",
    "                stack.append([current.left,max(max_val,current.left.val)])\n",
    "            if current.right:\n",
    "                stack.append([current.right,max(max_val,current.right.val)])\n",
    "        return res"
   ]
  },
  {
   "cell_type": "markdown",
   "metadata": {},
   "source": [
    "979. Distribute Coins in Binary Tree"
   ]
  },
  {
   "cell_type": "code",
   "execution_count": 2,
   "metadata": {},
   "outputs": [],
   "source": [
    "class Solution:\n",
    "    res=0\n",
    "    def extracoins(self,node):\n",
    "        if not node:\n",
    "            return 0\n",
    "        left=self.extracoins(node.left)\n",
    "        right=self.extracoins(node.right)\n",
    "        self.res+=abs(left)+abs(right)\n",
    "        return node.val+left+right-1    \n",
    "    def distributeCoins(self, root):\n",
    "        self.extracoins(root)\n",
    "        return self.res"
   ]
  },
  {
   "cell_type": "markdown",
   "metadata": {},
   "source": [
    "733. Flood Fill"
   ]
  },
  {
   "cell_type": "code",
   "execution_count": 5,
   "metadata": {},
   "outputs": [],
   "source": [
    "class Solution:\n",
    "    def floodFill(self, image, sr: int, sc: int, newColor: int):\n",
    "        m=len(image)\n",
    "        n=len(image[0])\n",
    "        same_color=[[i,j] for i in range(m) for j in range(n) if image[i][j]==image[sr][sc]]\n",
    "        stack=[[sr,sc]]\n",
    "        res_rc=[[sr,sc]]\n",
    "        while stack:\n",
    "            r,c=stack.pop()\n",
    "            for loc in [[max(0,r-1),c],[min(r+1,m-1),c],[r,max(0,c-1)],[r,min(n-1,c+1)]]:\n",
    "                if loc in same_color:\n",
    "                    res_rc.append(loc)\n",
    "                    stack.append(loc)\n",
    "                    same_color.remove(loc)  \n",
    "        for r,c in res_rc:\n",
    "            image[r][c]=newColor\n",
    "        return image"
   ]
  },
  {
   "cell_type": "markdown",
   "metadata": {},
   "source": [
    "Exercise 1026. Maximum Difference Between Node and Ancestor"
   ]
  },
  {
   "cell_type": "code",
   "execution_count": 6,
   "metadata": {},
   "outputs": [],
   "source": [
    "class Solution:\n",
    "    def maxAncestorDiff(self, root) -> int:\n",
    "        res=0\n",
    "        stack=[[root,root.val,root.val]]\n",
    "        while stack:\n",
    "            current,min_val,max_val=stack.pop()\n",
    "            if not current:\n",
    "               diff=max_val-min_val\n",
    "               if diff>res:\n",
    "                   res=diff\n",
    "            else:\n",
    "               if current.val>max_val:\n",
    "                   max_val=current.val\n",
    "               if current.val<min_val:\n",
    "                   min_val=current.val\n",
    "               stack.append([current.right,min_val,max_val])\n",
    "               stack.append([current.left,min_val,max_val])\n",
    "        return res"
   ]
  },
  {
   "cell_type": "markdown",
   "metadata": {},
   "source": [
    "Exercise 993. Cousins in Binary Tree"
   ]
  },
  {
   "cell_type": "code",
   "execution_count": 1,
   "metadata": {},
   "outputs": [],
   "source": [
    "class Solution:\n",
    "    def isCousins(self, root, x: int, y: int):\n",
    "        queue=[[root,0,0]]   \n",
    "        x_y=[]\n",
    "        while len(x_y)<2:\n",
    "            node,depth,parent_value=queue.pop(0)\n",
    "            if node.val==x:\n",
    "                x_y.append([depth,parent_value])\n",
    "            elif node.val==y:\n",
    "                x_y.append([depth,parent_value])\n",
    "            if node.left:\n",
    "                queue.append([node.left,depth+1,node.val])\n",
    "            if node.right:\n",
    "                queue.append([node.right,depth+1,node.val])\n",
    "        x_dp,y_dp=x_y\n",
    "        if x_dp[0]==y_dp[0] and x_dp[1]!=y_dp[1]:\n",
    "            return True\n",
    "        else:\n",
    "            return False"
   ]
  },
  {
   "cell_type": "markdown",
   "metadata": {},
   "source": [
    "Exercise 429. N-ary Tree Level Order Traversal"
   ]
  },
  {
   "cell_type": "code",
   "execution_count": 2,
   "metadata": {},
   "outputs": [],
   "source": [
    "class Solution:\n",
    "    def levelOrder(self, root):\n",
    "        if not root:\n",
    "            return []\n",
    "        res=[]\n",
    "        queue=[[root,0]]\n",
    "        current_level=0\n",
    "        current_nodes=[]\n",
    "        while queue:\n",
    "            node,level=queue.pop(0)\n",
    "            if level==current_level:\n",
    "                current_nodes.append(node.val)\n",
    "            else:\n",
    "                res.append(current_nodes)\n",
    "                current_level=level\n",
    "                current_nodes=[node.val]\n",
    "            for child in node.children:\n",
    "                if child:\n",
    "                    queue.append([child,level+1])\n",
    "        res.append(current_nodes)\n",
    "        return res"
   ]
  },
  {
   "cell_type": "code",
   "execution_count": 3,
   "metadata": {},
   "outputs": [],
   "source": [
    "class Solution:\n",
    "    def levelOrder(self, root):\n",
    "        if not root:\n",
    "            return []\n",
    "        res=[]\n",
    "        to_be_visited=[root]\n",
    "        while True:\n",
    "            res.append([node.val for node in to_be_visited])\n",
    "            for node in to_be_visited:\n",
    "                for child in node.children:\n",
    "                    if child:\n",
    "                        temp.append(child)\n",
    "            to_be_visited=temp.copy()\n",
    "            if len(temp)==0:\n",
    "                break\n",
    "        return res"
   ]
  },
  {
   "cell_type": "code",
   "execution_count": 4,
   "metadata": {},
   "outputs": [],
   "source": [
    "class Solution:\n",
    "    def levelOrder(self, root):\n",
    "        if not root:\n",
    "            return []\n",
    "        res=[]\n",
    "        to_be_visited=[root]\n",
    "        while True:\n",
    "            res.append([node.val for node in to_be_visited])\n",
    "            temp=[child for node in to_be_visited for child in node.children if child]\n",
    "            to_be_visited=temp.copy()\n",
    "            if len(temp)==0:\n",
    "                break\n",
    "        return res"
   ]
  },
  {
   "cell_type": "markdown",
   "metadata": {},
   "source": [
    "Exercise 752. Open the Lock"
   ]
  },
  {
   "cell_type": "code",
   "execution_count": 9,
   "metadata": {},
   "outputs": [],
   "source": [
    "class Solution:\n",
    "    from collections import deque\n",
    "    def successors(self, src):\n",
    "        res = []\n",
    "        for i, ch in enumerate(src):\n",
    "            num = int(ch)\n",
    "            res.append(src[:i] + str((num - 1) % 10) + src[i+1:])\n",
    "            res.append(src[:i] + str((num + 1) % 10) + src[i+1:])\n",
    "        return res    \n",
    "    def openLock(self, deadends, target: str) -> int:\n",
    "        start=\"0000\"\n",
    "        if \"0000\" in deadends:\n",
    "            return -1\n",
    "        step=0\n",
    "        frontier=deque([\"0000\"])\n",
    "        visited=set(deadends)\n",
    "        while len(frontier)>0:\n",
    "            size=len(frontier)\n",
    "            for _ in range(size):\n",
    "                code=frontier.popleft()\n",
    "                if code==target:\n",
    "                    return step\n",
    "                if code in visited:\n",
    "                    continue\n",
    "                else:\n",
    "                    frontier.extend(self.successors(code))\n",
    "                    visited.add(code)           \n",
    "            step+=1\n",
    "        return -1"
   ]
  },
  {
   "cell_type": "markdown",
   "metadata": {},
   "source": [
    "Exercise 515. Find Largest Value in Each Tree Row"
   ]
  },
  {
   "cell_type": "code",
   "execution_count": 15,
   "metadata": {},
   "outputs": [],
   "source": [
    "class Solution:\n",
    "    def largestValues(self, root):\n",
    "        if not root:\n",
    "            return []\n",
    "        queue=[root]\n",
    "        res=[]\n",
    "        while queue:\n",
    "            size=len(queue)\n",
    "            max_val=-2**31\n",
    "            for _ in range(size):\n",
    "                node=queue.pop(0)\n",
    "                if node.val>max_val:\n",
    "                    max_val=node.val\n",
    "                if node.left:\n",
    "                    queue.append(node.left)\n",
    "                if node.right:\n",
    "                    queue.append(node.right)\n",
    "            res.append(max_val)\n",
    "        return res"
   ]
  },
  {
   "cell_type": "code",
   "execution_count": 18,
   "metadata": {},
   "outputs": [],
   "source": [
    "class Solution:\n",
    "    def largestValues(self, root):\n",
    "        res=[]\n",
    "        row=[root]\n",
    "        while any(row):\n",
    "            res.append(max(node.val for node in row))\n",
    "            row=[kid for node in row for kid in (node.left,node.right) if kid]\n",
    "        return res"
   ]
  },
  {
   "cell_type": "markdown",
   "metadata": {},
   "source": [
    "Exercise 1765. Map of Highest Peak"
   ]
  },
  {
   "cell_type": "code",
   "execution_count": 35,
   "metadata": {},
   "outputs": [],
   "source": [
    "class Solution:\n",
    "    def highestPeak(self, isWater):\n",
    "        m,n=len(isWater),len(isWater[0])\n",
    "        res=[[-1 for _ in range(n)] for _ in range(m)]\n",
    "        frontier=[]\n",
    "        for i in range(m):\n",
    "            for j in range(n):\n",
    "                if isWater[i][j]==1:\n",
    "                  frontier.append([i,j])\n",
    "                  res[i][j]=0\n",
    "        Dir=[0,1,0,-1,0]\n",
    "        while frontier:\n",
    "            i,j=frontier.pop(0)\n",
    "            for k in range(4):\n",
    "                r,c=i+Dir[k],j+Dir[k+1]\n",
    "                if r<0 or r==m or c<0 or c==n or res[r][c]!=-1:\n",
    "                    continue\n",
    "                else:\n",
    "                    frontier.append([r,c])\n",
    "                    res[r][c]=res[i][j]+1\n",
    "        return res"
   ]
  },
  {
   "cell_type": "markdown",
   "metadata": {},
   "source": [
    "Solution Two: use deque instead of list for speeding up. "
   ]
  },
  {
   "cell_type": "code",
   "execution_count": 36,
   "metadata": {},
   "outputs": [],
   "source": [
    "class Solution(object):\n",
    "    from collections import deque\n",
    "    def highestPeak(self, isWater):\n",
    "        m,n=len(isWater),len(isWater[0])\n",
    "        res=[[-1 for _ in range(n)] for _ in range(m)]\n",
    "        frontier=deque([])\n",
    "        for i in range(m):\n",
    "            for j in range(n):\n",
    "                if isWater[i][j]==1:\n",
    "                  frontier.append([i,j])\n",
    "                  res[i][j]=0\n",
    "        Dir=[0,1,0,-1,0]\n",
    "        while frontier:\n",
    "            i,j=frontier.popleft()\n",
    "            for k in range(4):\n",
    "                r,c=i+Dir[k],j+Dir[k+1]\n",
    "                if r<0 or r==m or c<0 or c==n or res[r][c]!=-1:\n",
    "                    continue\n",
    "                else:\n",
    "                    frontier.append([r,c])\n",
    "                    res[r][c]=res[i][j]+1\n",
    "        return res"
   ]
  },
  {
   "cell_type": "markdown",
   "metadata": {},
   "source": [
    "Exercise 1325. Delete Leaves With a Given Value"
   ]
  },
  {
   "cell_type": "code",
   "execution_count": 1,
   "metadata": {},
   "outputs": [],
   "source": [
    "class Solution:\n",
    "    def removeLeafNodes(self, root, target: int):\n",
    "        if root:\n",
    "            if root.left:\n",
    "                root.left=self.removeLeafNodes(root.left,target)\n",
    "            if root.right:\n",
    "                root.right=self.removeLeafNodes(root.right,target)\n",
    "            if root.left==None and root.right==None and root.val==target:\n",
    "                return None\n",
    "        return root"
   ]
  },
  {
   "cell_type": "markdown",
   "metadata": {},
   "source": [
    "Exercise 1123. Lowest Common Ancestor of Deepest Leaves"
   ]
  },
  {
   "cell_type": "code",
   "execution_count": 3,
   "metadata": {},
   "outputs": [],
   "source": [
    "class Solution:\n",
    "    def helper(self, root):\n",
    "        if not root: \n",
    "            return 0,None\n",
    "        h1,lac1=self.helper(root.left)\n",
    "        h2,lac2=self.helper(root.right)\n",
    "        if h1>h2: \n",
    "            return h1+1,lac1\n",
    "        elif h1<h2:\n",
    "            return h2+1,lac2\n",
    "        else:\n",
    "            return h1+1, root\n",
    "    def lcaDeepestLeaves(self, root):\n",
    "        return self.helper(root)[1]"
   ]
  },
  {
   "cell_type": "markdown",
   "metadata": {},
   "source": [
    "Exercise 529. Minesweeper"
   ]
  },
  {
   "cell_type": "code",
   "execution_count": 1,
   "metadata": {},
   "outputs": [],
   "source": [
    "class Solution:\n",
    "    def adj(self,location,m,n):\n",
    "        r,c=location\n",
    "        direction=[[1,0],[0,1],[-1,0],[0,-1],[1,1],[1,-1],[-1,1],[-1,-1]]\n",
    "        res=[]\n",
    "        for i,j in direction:\n",
    "            n_r,n_c=r+i,c+j\n",
    "            if n_r>=0 and n_r<m and n_c>=0 and n_c<n:\n",
    "                res.append([n_r,n_c])\n",
    "        return res     \n",
    "    from collections import deque\n",
    "    def updateBoard(self, board, click):\n",
    "        m,n=len(board),len(board[0])\n",
    "        click_queue=deque([click])\n",
    "        while click_queue:\n",
    "            r,c=click_queue.popleft()\n",
    "            if board[r][c]==\"M\":\n",
    "                board[r][c]='X'\n",
    "                return board\n",
    "            else:\n",
    "                append_list=[]\n",
    "                adj_list=self.adj((r,c),m,n)\n",
    "                count_mine=0\n",
    "                for n_r,n_c in adj_list:\n",
    "                    if board[n_r][n_c]=='M':\n",
    "                        count_mine+=1\n",
    "                    if board[n_r][n_c]!='E':\n",
    "                        continue\n",
    "                    elif board[n_r][n_c]=='E' and [n_r,n_c] not in click_queue:\n",
    "                        append_list.append([n_r,n_c])\n",
    "                if count_mine==0:\n",
    "                    board[r][c]='B'\n",
    "                    click_queue.extend(append_list)\n",
    "                else:\n",
    "                    board[r][c]=str(count_mine)\n",
    "        return board"
   ]
  },
  {
   "cell_type": "markdown",
   "metadata": {},
   "source": [
    "Solution Two"
   ]
  },
  {
   "cell_type": "code",
   "execution_count": 2,
   "metadata": {},
   "outputs": [],
   "source": [
    "class Solution:\n",
    "    def adj(self,location,m,n):\n",
    "        r,c=location\n",
    "        direction=[[1,0],[0,1],[-1,0],[0,-1],[1,1],[1,-1],[-1,1],[-1,-1]]\n",
    "        res=[]\n",
    "        for i,j in direction:\n",
    "            n_r,n_c=r+i,c+j\n",
    "            if n_r>=0 and n_r<m and n_c>=0 and n_c<n:\n",
    "                res.append([n_r,n_c])\n",
    "        return res                \n",
    "    \n",
    "    def dfs(self,board,click):\n",
    "        m,n=len(board),len(board[0])\n",
    "        r,c=click\n",
    "        if board[r][c]==\"M\":\n",
    "            board[r][c]=\"X\"\n",
    "            return\n",
    "        elif board[r][c]==\"E\":\n",
    "            neighbers=self.adj([r,c],m,n)\n",
    "            bomb=0\n",
    "            for i,j in neighbers:\n",
    "                if board[i][j]==\"M\":\n",
    "                    bomb+=1\n",
    "            if bomb!=0:\n",
    "                board[r][c]=str(bomb)\n",
    "                return\n",
    "            else:\n",
    "                board[r][c]='B'\n",
    "                for location in neighbers:\n",
    "                    self.dfs(board,location)\n",
    "                return\n",
    "              \n",
    "    def updateBoard(self, board, click):\n",
    "        m,n=len(board),len(board[0])\n",
    "        self.dfs(board,click)\n",
    "        return board"
   ]
  },
  {
   "cell_type": "code",
   "execution_count": 15,
   "metadata": {},
   "outputs": [],
   "source": [
    "A=[0,1,3,0]"
   ]
  },
  {
   "cell_type": "code",
   "execution_count": 16,
   "metadata": {},
   "outputs": [
    {
     "data": {
      "text/plain": [
       "2"
      ]
     },
     "execution_count": 16,
     "metadata": {},
     "output_type": "execute_result"
    }
   ],
   "source": [
    "A.count(0)"
   ]
  },
  {
   "cell_type": "code",
   "execution_count": null,
   "metadata": {},
   "outputs": [],
   "source": []
  }
 ],
 "metadata": {
  "kernelspec": {
   "display_name": "Python 3",
   "language": "python",
   "name": "python3"
  },
  "language_info": {
   "codemirror_mode": {
    "name": "ipython",
    "version": 3
   },
   "file_extension": ".py",
   "mimetype": "text/x-python",
   "name": "python",
   "nbconvert_exporter": "python",
   "pygments_lexer": "ipython3",
   "version": "3.6.5"
  }
 },
 "nbformat": 4,
 "nbformat_minor": 2
}
