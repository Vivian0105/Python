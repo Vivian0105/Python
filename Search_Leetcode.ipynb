{
 "cells": [
  {
   "cell_type": "markdown",
   "metadata": {},
   "source": [
    "Exercise 690. Employee Importance"
   ]
  },
  {
   "cell_type": "code",
   "execution_count": 1,
   "metadata": {},
   "outputs": [],
   "source": [
    "\"\"\"\n",
    "# Definition for Employee.\n",
    "class Employee:\n",
    "    def __init__(self, id: int, importance: int, subordinates: List[int]):\n",
    "        self.id = id\n",
    "        self.importance = importance\n",
    "        self.subordinates = subordinates\n",
    "\"\"\"\n",
    "\n",
    "class Solution:\n",
    "    def getImportance(self, employees, id):\n",
    "        employees_importance={}\n",
    "        for employee in employees:\n",
    "            employees_importance[employee.id]=[employee.importance,employee.subordinates]\n",
    "        res=0\n",
    "        res+=employees_importance[id][0]\n",
    "        ids=employees_importance[id][1]\n",
    "        while len(ids)>0:\n",
    "            i=ids[0]\n",
    "            res+=employees_importance[i][0]\n",
    "            ids+=employees_importance[i][1]\n",
    "            ids.remove(i)\n",
    "        return res\n",
    "                "
   ]
  },
  {
   "cell_type": "code",
   "execution_count": 3,
   "metadata": {},
   "outputs": [],
   "source": [
    "# Solution 2\n",
    "class Solution:\n",
    "    def getImportance(self, employees, id):\n",
    "        employees_importance={}\n",
    "        for employee in employees:\n",
    "            employees_importance[employee.id]=[employee.importance,employee.subordinates]\n",
    "        def helper(i):\n",
    "            return employees_importance[i][0]+sum(helper(j) for j in employees_importance[i][1])\n",
    "        return helper(id)"
   ]
  },
  {
   "cell_type": "markdown",
   "metadata": {},
   "source": [
    "Exercise 112. Path Sum"
   ]
  },
  {
   "cell_type": "code",
   "execution_count": 4,
   "metadata": {},
   "outputs": [],
   "source": [
    "# Definition for a binary tree node.\n",
    "# class TreeNode:\n",
    "#     def __init__(self, val=0, left=None, right=None):\n",
    "#         self.val = val\n",
    "#         self.left = left\n",
    "#         self.right = right\n",
    "class Solution:\n",
    "    def hasPathSum(self, root, targetSum):\n",
    "        if not root:\n",
    "            return False\n",
    "        stack=[[root,root.val]]\n",
    "        while stack:\n",
    "            current,val=stack.pop()\n",
    "            if current.left==None and current.right==None and val==targetSum:\n",
    "                return True\n",
    "            if current.left:\n",
    "                stack.append([current.left,current.left.val+val])\n",
    "            if current.right:\n",
    "                stack.append([current.right,current.right.val+val])\n",
    "        return False"
   ]
  },
  {
   "cell_type": "code",
   "execution_count": 5,
   "metadata": {},
   "outputs": [],
   "source": [
    "# Solution 2\n",
    "class Solution:\n",
    "    def hasPathSum(self, root, targetSum):\n",
    "        if not root:\n",
    "            return False\n",
    "        if root.left==None and root.right==None and root.val==targetSum:\n",
    "            return True\n",
    "        else:\n",
    "            val=targetSum-root.val\n",
    "            return self.hasPathSum(root.left,val) or self.hasPathSum(root.right,val)"
   ]
  },
  {
   "cell_type": "markdown",
   "metadata": {},
   "source": [
    "Exercise 101. Symmetric Tree"
   ]
  },
  {
   "cell_type": "code",
   "execution_count": 4,
   "metadata": {},
   "outputs": [],
   "source": [
    "# Definition for a binary tree node.\n",
    "# class TreeNode:\n",
    "#     def __init__(self, val=0, left=None, right=None):\n",
    "#         self.val = val\n",
    "#         self.left = left\n",
    "#         self.right = right\n",
    "class Solution:\n",
    "    def isSymmetric(self, root):\n",
    "        if not root:\n",
    "            return True\n",
    "        if root.left==None and root.right==None:\n",
    "            return True\n",
    "        elif root.left==None or root.right==None:\n",
    "            return False\n",
    "        else:\n",
    "            stack1=[root.left]\n",
    "            stack2=[root.right]\n",
    "        while len(stack1)>0 or len(stack2)>0:\n",
    "            current1=stack1.pop()\n",
    "            current2=stack2.pop()\n",
    "            if current1.val!=current2.val:\n",
    "                return False\n",
    "            else:\n",
    "                if current1.left==None and current2.right!=None:\n",
    "                    return False\n",
    "                elif current1.left!=None and current2.right==None:\n",
    "                    return False\n",
    "                elif current1.left!=None and current2.right!=None:\n",
    "                    stack1.append(current1.left)\n",
    "                    stack2.append(current2.right)\n",
    "                if current1.right==None and current2.left!=None:\n",
    "                    return False\n",
    "                elif current1.right!=None and current2.left==None:\n",
    "                    return False\n",
    "                elif current1.right!=None and current2.left!=None:\n",
    "                    stack1.append(current1.right)\n",
    "                    stack2.append(current2.left)\n",
    "        if len(stack1)+len(stack2)>0:\n",
    "            return False\n",
    "        else:\n",
    "            return True"
   ]
  },
  {
   "cell_type": "markdown",
   "metadata": {},
   "source": [
    "Exercise 111. Minimum Depth of Binary Tree"
   ]
  },
  {
   "cell_type": "code",
   "execution_count": 5,
   "metadata": {},
   "outputs": [],
   "source": [
    "class Solution:\n",
    "    def minDepth(self, root) -> int:\n",
    "        if not root:\n",
    "            return 0\n",
    "        if root.left==None and root.right==None:\n",
    "            return 1\n",
    "        elif root.left==None:\n",
    "            return self.minDepth(root.right)+1\n",
    "        elif root.right==None:\n",
    "            return self.minDepth(root.left)+1\n",
    "        return min(self.minDepth(root.left)+1,self.minDepth(root.right)+1)"
   ]
  },
  {
   "cell_type": "markdown",
   "metadata": {},
   "source": [
    "Exercise 1038. Binary Search Tree to Greater Sum Tree"
   ]
  },
  {
   "cell_type": "code",
   "execution_count": 6,
   "metadata": {},
   "outputs": [],
   "source": [
    "# Definition for a binary tree node.\n",
    "# class TreeNode:\n",
    "#     def __init__(self, val=0, left=None, right=None):\n",
    "#         self.val = val\n",
    "#         self.left = left\n",
    "#         self.right = right\n",
    "class Solution:\n",
    "    def bstToGst(self, root):\n",
    "        if not root:\n",
    "            return root\n",
    "        stack=[root]\n",
    "        changed=[]\n",
    "        accumulative_sum=0\n",
    "        while len(stack)!=0:\n",
    "            print(len(stack))\n",
    "            current=stack[-1]\n",
    "            if current.right!=None and (current.right not in changed):\n",
    "                stack.append(current.right)\n",
    "            elif (current.right==None or current.right in changed) and (current.left==None or current.left in changed):\n",
    "                current.val+=accumulative_sum\n",
    "                accumulative_sum=current.val\n",
    "                changed.append(current)\n",
    "                stack.pop()\n",
    "            elif current.left!=None and (current.left not in changed):\n",
    "                current.val+=accumulative_sum\n",
    "                accumulative_sum=current.val\n",
    "                stack.pop()\n",
    "                changed.append(current)\n",
    "                stack.append(current.left)\n",
    "        return root"
   ]
  },
  {
   "cell_type": "markdown",
   "metadata": {},
   "source": [
    "Exercise 797. All Paths From Source to Target"
   ]
  },
  {
   "cell_type": "code",
   "execution_count": 2,
   "metadata": {},
   "outputs": [],
   "source": [
    "class Solution:\n",
    "    def allPathsSourceTarget(self, graph):\n",
    "        N=len(graph)-1\n",
    "        paths=[[0]]\n",
    "        res=[]\n",
    "        while paths:\n",
    "            p=paths.pop()\n",
    "            if p[-1]==N:\n",
    "                res.append(p)\n",
    "            else:\n",
    "                for d in graph[p[-1]]:\n",
    "                    paths.append(p+[d])\n",
    "        return res     "
   ]
  },
  {
   "cell_type": "markdown",
   "metadata": {},
   "source": [
    "Exercise 1448. Count Good Nodes in Binary Tree"
   ]
  },
  {
   "cell_type": "code",
   "execution_count": 3,
   "metadata": {},
   "outputs": [],
   "source": [
    "class Solution:\n",
    "    def goodNodes(self, root):\n",
    "        res=0\n",
    "        stack=[[root,root.val]]\n",
    "        while stack:\n",
    "            current,max_val=stack.pop()\n",
    "            if max_val<=current.val:\n",
    "                res+=1\n",
    "            if current.left:\n",
    "                stack.append([current.left,max(max_val,current.left.val)])\n",
    "            if current.right:\n",
    "                stack.append([current.right,max(max_val,current.right.val)])\n",
    "        return res"
   ]
  },
  {
   "cell_type": "markdown",
   "metadata": {},
   "source": [
    "979. Distribute Coins in Binary Tree"
   ]
  },
  {
   "cell_type": "code",
   "execution_count": 2,
   "metadata": {},
   "outputs": [],
   "source": [
    "class Solution:\n",
    "    res=0\n",
    "    def extracoins(self,node):\n",
    "        if not node:\n",
    "            return 0\n",
    "        left=self.extracoins(node.left)\n",
    "        right=self.extracoins(node.right)\n",
    "        self.res+=abs(left)+abs(right)\n",
    "        return node.val+left+right-1    \n",
    "    def distributeCoins(self, root):\n",
    "        self.extracoins(root)\n",
    "        return self.res"
   ]
  },
  {
   "cell_type": "markdown",
   "metadata": {},
   "source": [
    "733. Flood Fill"
   ]
  },
  {
   "cell_type": "code",
   "execution_count": 5,
   "metadata": {},
   "outputs": [],
   "source": [
    "class Solution:\n",
    "    def floodFill(self, image, sr: int, sc: int, newColor: int):\n",
    "        m=len(image)\n",
    "        n=len(image[0])\n",
    "        same_color=[[i,j] for i in range(m) for j in range(n) if image[i][j]==image[sr][sc]]\n",
    "        stack=[[sr,sc]]\n",
    "        res_rc=[[sr,sc]]\n",
    "        while stack:\n",
    "            r,c=stack.pop()\n",
    "            for loc in [[max(0,r-1),c],[min(r+1,m-1),c],[r,max(0,c-1)],[r,min(n-1,c+1)]]:\n",
    "                if loc in same_color:\n",
    "                    res_rc.append(loc)\n",
    "                    stack.append(loc)\n",
    "                    same_color.remove(loc)  \n",
    "        for r,c in res_rc:\n",
    "            image[r][c]=newColor\n",
    "        return image"
   ]
  },
  {
   "cell_type": "markdown",
   "metadata": {},
   "source": [
    "Exercise 1026. Maximum Difference Between Node and Ancestor"
   ]
  },
  {
   "cell_type": "code",
   "execution_count": 6,
   "metadata": {},
   "outputs": [],
   "source": [
    "class Solution:\n",
    "    def maxAncestorDiff(self, root) -> int:\n",
    "        res=0\n",
    "        stack=[[root,root.val,root.val]]\n",
    "        while stack:\n",
    "            current,min_val,max_val=stack.pop()\n",
    "            if not current:\n",
    "               diff=max_val-min_val\n",
    "               if diff>res:\n",
    "                   res=diff\n",
    "            else:\n",
    "               if current.val>max_val:\n",
    "                   max_val=current.val\n",
    "               if current.val<min_val:\n",
    "                   min_val=current.val\n",
    "               stack.append([current.right,min_val,max_val])\n",
    "               stack.append([current.left,min_val,max_val])\n",
    "        return res"
   ]
  },
  {
   "cell_type": "code",
   "execution_count": null,
   "metadata": {},
   "outputs": [],
   "source": []
  }
 ],
 "metadata": {
  "kernelspec": {
   "display_name": "Python 3",
   "language": "python",
   "name": "python3"
  },
  "language_info": {
   "codemirror_mode": {
    "name": "ipython",
    "version": 3
   },
   "file_extension": ".py",
   "mimetype": "text/x-python",
   "name": "python",
   "nbconvert_exporter": "python",
   "pygments_lexer": "ipython3",
   "version": "3.6.5"
  }
 },
 "nbformat": 4,
 "nbformat_minor": 2
}
