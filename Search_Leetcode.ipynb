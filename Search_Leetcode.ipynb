{
 "cells": [
  {
   "cell_type": "markdown",
   "metadata": {},
   "source": [
    "Exercise 690. Employee Importance"
   ]
  },
  {
   "cell_type": "code",
   "execution_count": 1,
   "metadata": {},
   "outputs": [],
   "source": [
    "\"\"\"\n",
    "# Definition for Employee.\n",
    "class Employee:\n",
    "    def __init__(self, id: int, importance: int, subordinates: List[int]):\n",
    "        self.id = id\n",
    "        self.importance = importance\n",
    "        self.subordinates = subordinates\n",
    "\"\"\"\n",
    "\n",
    "class Solution:\n",
    "    def getImportance(self, employees, id):\n",
    "        employees_importance={}\n",
    "        for employee in employees:\n",
    "            employees_importance[employee.id]=[employee.importance,employee.subordinates]\n",
    "        res=0\n",
    "        res+=employees_importance[id][0]\n",
    "        ids=employees_importance[id][1]\n",
    "        while len(ids)>0:\n",
    "            i=ids[0]\n",
    "            res+=employees_importance[i][0]\n",
    "            ids+=employees_importance[i][1]\n",
    "            ids.remove(i)\n",
    "        return res\n",
    "                "
   ]
  },
  {
   "cell_type": "code",
   "execution_count": 3,
   "metadata": {},
   "outputs": [],
   "source": [
    "# Solution 2\n",
    "class Solution:\n",
    "    def getImportance(self, employees, id):\n",
    "        employees_importance={}\n",
    "        for employee in employees:\n",
    "            employees_importance[employee.id]=[employee.importance,employee.subordinates]\n",
    "        def helper(i):\n",
    "            return employees_importance[i][0]+sum(helper(j) for j in employees_importance[i][1])\n",
    "        return helper(id)"
   ]
  },
  {
   "cell_type": "markdown",
   "metadata": {},
   "source": [
    "Exercise 112. Path Sum"
   ]
  },
  {
   "cell_type": "code",
   "execution_count": 4,
   "metadata": {},
   "outputs": [],
   "source": [
    "# Definition for a binary tree node.\n",
    "# class TreeNode:\n",
    "#     def __init__(self, val=0, left=None, right=None):\n",
    "#         self.val = val\n",
    "#         self.left = left\n",
    "#         self.right = right\n",
    "class Solution:\n",
    "    def hasPathSum(self, root, targetSum):\n",
    "        if not root:\n",
    "            return False\n",
    "        stack=[[root,root.val]]\n",
    "        while stack:\n",
    "            current,val=stack.pop()\n",
    "            if current.left==None and current.right==None and val==targetSum:\n",
    "                return True\n",
    "            if current.left:\n",
    "                stack.append([current.left,current.left.val+val])\n",
    "            if current.right:\n",
    "                stack.append([current.right,current.right.val+val])\n",
    "        return False"
   ]
  },
  {
   "cell_type": "code",
   "execution_count": 5,
   "metadata": {},
   "outputs": [],
   "source": [
    "# Solution 2\n",
    "class Solution:\n",
    "    def hasPathSum(self, root, targetSum):\n",
    "        if not root:\n",
    "            return False\n",
    "        if root.left==None and root.right==None and root.val==targetSum:\n",
    "            return True\n",
    "        else:\n",
    "            val=targetSum-root.val\n",
    "            return self.hasPathSum(root.left,val) or self.hasPathSum(root.right,val)"
   ]
  },
  {
   "cell_type": "code",
   "execution_count": null,
   "metadata": {},
   "outputs": [],
   "source": []
  }
 ],
 "metadata": {
  "kernelspec": {
   "display_name": "Python 3",
   "language": "python",
   "name": "python3"
  },
  "language_info": {
   "codemirror_mode": {
    "name": "ipython",
    "version": 3
   },
   "file_extension": ".py",
   "mimetype": "text/x-python",
   "name": "python",
   "nbconvert_exporter": "python",
   "pygments_lexer": "ipython3",
   "version": "3.6.5"
  }
 },
 "nbformat": 4,
 "nbformat_minor": 2
}
