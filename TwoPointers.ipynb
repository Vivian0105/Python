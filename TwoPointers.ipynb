{
 "cells": [
  {
   "cell_type": "markdown",
   "metadata": {},
   "source": [
    "Exercise 350. Intersection of Two Arrays II"
   ]
  },
  {
   "cell_type": "code",
   "execution_count": 3,
   "metadata": {},
   "outputs": [],
   "source": [
    "    def intersect(nums1, nums2):\n",
    "        nums1.sort()\n",
    "        nums2.sort()\n",
    "        i,j=0,0\n",
    "        l1,l2=len(nums1),len(nums2)\n",
    "        res=[]\n",
    "        while i<l1 and j<l2:\n",
    "            if nums1[i]<nums2[j]:\n",
    "                i+=1\n",
    "            elif nums1[i]>nums2[j]:\n",
    "                j+=1\n",
    "            else:\n",
    "                res.append(nums1[i])\n",
    "                i+=1\n",
    "                j+=1\n",
    "        return res"
   ]
  },
  {
   "cell_type": "code",
   "execution_count": 4,
   "metadata": {},
   "outputs": [
    {
     "data": {
      "text/plain": [
       "[1, 3, 3, 4]"
      ]
     },
     "execution_count": 4,
     "metadata": {},
     "output_type": "execute_result"
    }
   ],
   "source": [
    "intersect([1,8,9,3,3,4,6,0],[3,4,3,1])"
   ]
  },
  {
   "cell_type": "markdown",
   "metadata": {},
   "source": [
    "Solution Two"
   ]
  },
  {
   "cell_type": "code",
   "execution_count": 6,
   "metadata": {},
   "outputs": [],
   "source": [
    "    from collections import Counter\n",
    "    def intersect(nums1, nums2):\n",
    "        counts=Counter(nums1)\n",
    "        res=[]\n",
    "        for num in nums2:\n",
    "            if counts[num]>0:\n",
    "                res.append(num)\n",
    "                counts[num]-=1\n",
    "        return res"
   ]
  },
  {
   "cell_type": "markdown",
   "metadata": {},
   "source": [
    "Exercise 1679. Max Number of K-Sum Pairs"
   ]
  },
  {
   "cell_type": "code",
   "execution_count": 1,
   "metadata": {},
   "outputs": [],
   "source": [
    "    def maxOperations(nums, k):\n",
    "        nums.sort()\n",
    "        i,j=0,len(nums)-1\n",
    "        res=0\n",
    "        while i<j:\n",
    "            n1=nums[i]\n",
    "            n2=nums[j]\n",
    "            if n1+n2<k:\n",
    "                i+=1\n",
    "            elif n1+n2>k:\n",
    "                j-=1\n",
    "            else:\n",
    "                res+=1\n",
    "                i+=1\n",
    "                j-=1\n",
    "        return res"
   ]
  },
  {
   "cell_type": "code",
   "execution_count": 2,
   "metadata": {},
   "outputs": [
    {
     "data": {
      "text/plain": [
       "3"
      ]
     },
     "execution_count": 2,
     "metadata": {},
     "output_type": "execute_result"
    }
   ],
   "source": [
    "maxOperations([1,4,6,7,3,2,2,3,9],5)"
   ]
  },
  {
   "cell_type": "markdown",
   "metadata": {},
   "source": [
    "Exercise 61. Rotate List"
   ]
  },
  {
   "cell_type": "code",
   "execution_count": 5,
   "metadata": {},
   "outputs": [],
   "source": [
    "class Solution:\n",
    "    def rotateRight(self, head, k: int):\n",
    "        if not head:\n",
    "            return head\n",
    "        n=0\n",
    "        current=head\n",
    "        while current:\n",
    "            n+=1\n",
    "            current=current.next\n",
    "        move_forward=k%n\n",
    "        if move_forward==0:\n",
    "            return head\n",
    "        move_back=n-move_forward\n",
    "        current=head\n",
    "        while current:\n",
    "            move_back-=1\n",
    "            if move_back>0:\n",
    "                current=current.next\n",
    "            else:\n",
    "                res=current.next\n",
    "                current.next=None\n",
    "                break\n",
    "        res_current=res\n",
    "        while True:\n",
    "            if res_current.next==None:\n",
    "                res_current.next=head\n",
    "                break\n",
    "            else:\n",
    "                res_current=res_current.next    \n",
    "        return res\n"
   ]
  },
  {
   "cell_type": "markdown",
   "metadata": {},
   "source": [
    "Solution Two: form a circle and then break the circle to chain "
   ]
  },
  {
   "cell_type": "code",
   "execution_count": 7,
   "metadata": {},
   "outputs": [],
   "source": [
    "class Solution:\n",
    "    def rotateRight(self, head, k: int):\n",
    "        if not head:\n",
    "            return head\n",
    "        n=0\n",
    "        current=head\n",
    "        while True:\n",
    "            n+=1\n",
    "            if current.next==None:\n",
    "                break\n",
    "            else:\n",
    "                current=current.next\n",
    "        move_forward=k%n\n",
    "        if move_forward==0:\n",
    "            return head\n",
    "        current.next=head\n",
    "        move_back=n-move_forward\n",
    "        current=head\n",
    "        while True:\n",
    "            move_back-=1\n",
    "            if move_back>0:\n",
    "                current=current.next\n",
    "            else:\n",
    "                res=current.next\n",
    "                current.next=None\n",
    "                break\n",
    "        return res"
   ]
  },
  {
   "cell_type": "markdown",
   "metadata": {},
   "source": [
    "Exercise 1023. Camelcase Matching"
   ]
  },
  {
   "cell_type": "code",
   "execution_count": 11,
   "metadata": {},
   "outputs": [],
   "source": [
    "def camelMatch(queries, pattern):\n",
    "        res=[]\n",
    "        for word in queries:\n",
    "            match=True          \n",
    "            i,j=0,0\n",
    "            while i<len(word) and j<len(pattern):\n",
    "                if word[i]==pattern[j]:\n",
    "                    i+=1\n",
    "                    j+=1\n",
    "                else:\n",
    "                    if word[i].isupper():\n",
    "                        match=False\n",
    "                        break\n",
    "                    else:\n",
    "                        i+=1\n",
    "            if match==False:\n",
    "                res.append(False)\n",
    "                continue\n",
    "            if j<len(pattern):\n",
    "                match=False\n",
    "                res.append(False)\n",
    "                continue\n",
    "            else:\n",
    "                res.append(not any(l.isupper() for l in word[i:]))\n",
    "        return res"
   ]
  },
  {
   "cell_type": "code",
   "execution_count": null,
   "metadata": {},
   "outputs": [],
   "source": []
  }
 ],
 "metadata": {
  "kernelspec": {
   "display_name": "Python 3",
   "language": "python",
   "name": "python3"
  },
  "language_info": {
   "codemirror_mode": {
    "name": "ipython",
    "version": 3
   },
   "file_extension": ".py",
   "mimetype": "text/x-python",
   "name": "python",
   "nbconvert_exporter": "python",
   "pygments_lexer": "ipython3",
   "version": "3.6.5"
  }
 },
 "nbformat": 4,
 "nbformat_minor": 2
}
