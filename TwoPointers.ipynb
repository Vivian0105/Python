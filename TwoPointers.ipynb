{
 "cells": [
  {
   "cell_type": "markdown",
   "metadata": {},
   "source": [
    "Exercise 350. Intersection of Two Arrays II"
   ]
  },
  {
   "cell_type": "code",
   "execution_count": 3,
   "metadata": {},
   "outputs": [],
   "source": [
    "    def intersect(nums1, nums2):\n",
    "        nums1.sort()\n",
    "        nums2.sort()\n",
    "        i,j=0,0\n",
    "        l1,l2=len(nums1),len(nums2)\n",
    "        res=[]\n",
    "        while i<l1 and j<l2:\n",
    "            if nums1[i]<nums2[j]:\n",
    "                i+=1\n",
    "            elif nums1[i]>nums2[j]:\n",
    "                j+=1\n",
    "            else:\n",
    "                res.append(nums1[i])\n",
    "                i+=1\n",
    "                j+=1\n",
    "        return res"
   ]
  },
  {
   "cell_type": "code",
   "execution_count": 4,
   "metadata": {},
   "outputs": [
    {
     "data": {
      "text/plain": [
       "[1, 3, 3, 4]"
      ]
     },
     "execution_count": 4,
     "metadata": {},
     "output_type": "execute_result"
    }
   ],
   "source": [
    "intersect([1,8,9,3,3,4,6,0],[3,4,3,1])"
   ]
  },
  {
   "cell_type": "markdown",
   "metadata": {},
   "source": [
    "Solution Two"
   ]
  },
  {
   "cell_type": "code",
   "execution_count": 6,
   "metadata": {},
   "outputs": [],
   "source": [
    "    from collections import Counter\n",
    "    def intersect(nums1, nums2):\n",
    "        counts=Counter(nums1)\n",
    "        res=[]\n",
    "        for num in nums2:\n",
    "            if counts[num]>0:\n",
    "                res.append(num)\n",
    "                counts[num]-=1\n",
    "        return res"
   ]
  },
  {
   "cell_type": "code",
   "execution_count": null,
   "metadata": {},
   "outputs": [],
   "source": []
  }
 ],
 "metadata": {
  "kernelspec": {
   "display_name": "Python 3",
   "language": "python",
   "name": "python3"
  },
  "language_info": {
   "codemirror_mode": {
    "name": "ipython",
    "version": 3
   },
   "file_extension": ".py",
   "mimetype": "text/x-python",
   "name": "python",
   "nbconvert_exporter": "python",
   "pygments_lexer": "ipython3",
   "version": "3.6.5"
  }
 },
 "nbformat": 4,
 "nbformat_minor": 2
}
