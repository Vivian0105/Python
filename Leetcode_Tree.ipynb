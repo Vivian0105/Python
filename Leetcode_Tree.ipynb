{
 "cells": [
  {
   "cell_type": "code",
   "execution_count": 1,
   "metadata": {},
   "outputs": [],
   "source": [
    "import math\n",
    "import numpy as np\n",
    "import collections"
   ]
  },
  {
   "cell_type": "code",
   "execution_count": 2,
   "metadata": {},
   "outputs": [],
   "source": [
    "class TreeNode:\n",
    "     def __init__(self, x=0,left=None,right=None):\n",
    "         self.val = x\n",
    "         self.left = left\n",
    "         self.right = right"
   ]
  },
  {
   "cell_type": "code",
   "execution_count": 13,
   "metadata": {},
   "outputs": [],
   "source": [
    "treeA=TreeNode(8)\n",
    "treeA.left=TreeNode(7)\n",
    "treeA.left.left=TreeNode(5,TreeNode(100),TreeNode(2))\n",
    "treeA.left.right=TreeNode(4,TreeNode(50),TreeNode(13))\n",
    "treeA.right=TreeNode(6)\n",
    "treeA.right.left=TreeNode(3)"
   ]
  },
  {
   "cell_type": "code",
   "execution_count": 14,
   "metadata": {},
   "outputs": [],
   "source": [
    "def printtree(treeA):\n",
    "    treenode=[]\n",
    "    stack=[]\n",
    "    while treeA:\n",
    "        treenode.append(treeA.val)\n",
    "        stack.append(treeA)\n",
    "        treeA=treeA.left\n",
    "        while not treeA:\n",
    "            if len(stack)!=0:\n",
    "                treeA=stack.pop()\n",
    "                treeA=treeA.right\n",
    "            else:\n",
    "                break\n",
    "    print(treenode)"
   ]
  },
  {
   "cell_type": "code",
   "execution_count": 15,
   "metadata": {},
   "outputs": [
    {
     "name": "stdout",
     "output_type": "stream",
     "text": [
      "[8, 7, 5, 100, 2, 4, 50, 13, 6, 3]\n"
     ]
    }
   ],
   "source": [
    "printtree(treeA)"
   ]
  },
  {
   "cell_type": "markdown",
   "metadata": {},
   "source": [
    "104. Maximum Depth of Binary Tree"
   ]
  },
  {
   "cell_type": "code",
   "execution_count": null,
   "metadata": {},
   "outputs": [],
   "source": [
    "class Solution:\n",
    "    def maxDepth(self, root):\n",
    "        if not root:\n",
    "            return 0\n",
    "        elif root.left==None and root.right==None:\n",
    "            return 1\n",
    "        else:\n",
    "            return max(self.maxDepth(root.left)+1,self.maxDepth(root.right)+1)"
   ]
  },
  {
   "cell_type": "code",
   "execution_count": null,
   "metadata": {},
   "outputs": [],
   "source": [
    "class Solution:\n",
    "    def maxDepth(self, root):\n",
    "        return 1 + max(map(self.maxDepth, (root.left, root.right))) if root else 0"
   ]
  },
  {
   "cell_type": "markdown",
   "metadata": {},
   "source": [
    "235. Lowest Common Ancestor of a Binary Search Tree"
   ]
  },
  {
   "cell_type": "code",
   "execution_count": null,
   "metadata": {},
   "outputs": [],
   "source": [
    "class Solution:\n",
    "    def lowestCommonAncestor(self, root, p, q) :\n",
    "        if root.val>p.val and root.val>q.val:\n",
    "            return self.lowestCommonAncestor(root.left,p,q)\n",
    "        elif root.val<p.val and root.val<q.val:\n",
    "            return self.lowestCommonAncestor(root.right,p,q)\n",
    "        else: \n",
    "            return root"
   ]
  }
 ],
 "metadata": {
  "kernelspec": {
   "display_name": "Python 3",
   "language": "python",
   "name": "python3"
  },
  "language_info": {
   "codemirror_mode": {
    "name": "ipython",
    "version": 3
   },
   "file_extension": ".py",
   "mimetype": "text/x-python",
   "name": "python",
   "nbconvert_exporter": "python",
   "pygments_lexer": "ipython3",
   "version": "3.6.5"
  }
 },
 "nbformat": 4,
 "nbformat_minor": 2
}
