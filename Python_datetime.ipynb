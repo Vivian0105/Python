{
 "cells": [
  {
   "cell_type": "code",
   "execution_count": 34,
   "metadata": {},
   "outputs": [],
   "source": [
    "import pandas as pd\n",
    "import numpy as np\n",
    "from datetime import datetime as dt\n",
    "import calendar\n",
    "from datetime import timedelta\n",
    "import os\n",
    "os.chdir('E:\\StockStragegy\\HistoricalStockPrice')"
   ]
  },
  {
   "cell_type": "markdown",
   "metadata": {},
   "source": [
    "Datetime"
   ]
  },
  {
   "cell_type": "code",
   "execution_count": 31,
   "metadata": {},
   "outputs": [
    {
     "name": "stdout",
     "output_type": "stream",
     "text": [
      "2021-02-14 22:19:06.258620\n",
      "Type of date_obj is  <class 'datetime.datetime'>\n",
      "1613359146.25862\n",
      "2021-02-15 22:19:06.258620\n"
     ]
    }
   ],
   "source": [
    "date_obj=dt.now()\n",
    "date_timestamp=dt.timestamp(date_obj)\n",
    "print(date_obj)\n",
    "print(\"Type of date_obj is \", type(date_obj))\n",
    "print(date_timestamp)\n",
    "date_timestamp2=date_timestamp+3600*24\n",
    "date_obj2=dt.fromtimestamp(date_timestamp2)\n",
    "print(date_obj2)"
   ]
  },
  {
   "cell_type": "code",
   "execution_count": 15,
   "metadata": {},
   "outputs": [
    {
     "name": "stdout",
     "output_type": "stream",
     "text": [
      "2021-02-14 00:00:00\n",
      "Month: 2, Day: 14\n",
      "Day of week: Sunday\n"
     ]
    }
   ],
   "source": [
    "mystring=\"02/14/2021\"\n",
    "my_date=dt.strptime(mystring,\"%m/%d/%Y\")\n",
    "print(my_date)\n",
    "print(\"Month: %i, Day: %i\"%(my_date.month,my_date.day))\n",
    "print(\"Day of week:\", calendar.day_name[my_date.weekday()])"
   ]
  },
  {
   "cell_type": "code",
   "execution_count": 32,
   "metadata": {},
   "outputs": [
    {
     "data": {
      "text/plain": [
       "1"
      ]
     },
     "execution_count": 32,
     "metadata": {},
     "output_type": "execute_result"
    }
   ],
   "source": [
    "(date_obj2-date_obj).days"
   ]
  },
  {
   "cell_type": "code",
   "execution_count": 38,
   "metadata": {},
   "outputs": [
    {
     "name": "stdout",
     "output_type": "stream",
     "text": [
      "The day in 10 days: 2021-02-24\n"
     ]
    }
   ],
   "source": [
    "Ten_day_future=date_obj+timedelta(days=10)\n",
    "print(\"The day in 10 days:\", Ten_day_future.date())"
   ]
  },
  {
   "cell_type": "markdown",
   "metadata": {},
   "source": [
    "Working with Pandas Datetime Objects"
   ]
  },
  {
   "cell_type": "code",
   "execution_count": null,
   "metadata": {},
   "outputs": [],
   "source": []
  }
 ],
 "metadata": {
  "kernelspec": {
   "display_name": "Python 3",
   "language": "python",
   "name": "python3"
  },
  "language_info": {
   "codemirror_mode": {
    "name": "ipython",
    "version": 3
   },
   "file_extension": ".py",
   "mimetype": "text/x-python",
   "name": "python",
   "nbconvert_exporter": "python",
   "pygments_lexer": "ipython3",
   "version": "3.6.5"
  }
 },
 "nbformat": 4,
 "nbformat_minor": 2
}
