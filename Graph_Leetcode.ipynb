{
 "cells": [
  {
   "cell_type": "markdown",
   "metadata": {},
   "source": [
    "Exercise 947. Most Stones Removed with Same Row or Column"
   ]
  },
  {
   "cell_type": "code",
   "execution_count": 1,
   "metadata": {},
   "outputs": [],
   "source": [
    "class Solution:\n",
    "    from collections import defaultdict\n",
    "    def removeStones(self, stones):\n",
    "        graph=defaultdict(list)\n",
    "        for i,j in stones:\n",
    "            graph[i].append([i,j])\n",
    "            graph[j+10000].append([i,j])\n",
    "        ilands=0\n",
    "        visited=[]\n",
    "        stack=[]\n",
    "        for i,j in stones:\n",
    "            if [i,j] not in visited:\n",
    "                visited.append([i,j])\n",
    "                ilands+=1\n",
    "                stack.append([i,j])\n",
    "                while stack:\n",
    "                    cur_i,cur_j=stack.pop(0)\n",
    "                    for point in graph[cur_i]:\n",
    "                        if point not in visited:\n",
    "                            stack.append(point)\n",
    "                            visited.append(point)\n",
    "                    for point in graph[cur_j+10000]:\n",
    "                        if point not in visited:\n",
    "                            stack.append(point)\n",
    "                            visited.append(point)\n",
    "        return len(stones)-ilands"
   ]
  },
  {
   "cell_type": "markdown",
   "metadata": {},
   "source": [
    "Exercise 547. Number of Provinces"
   ]
  },
  {
   "cell_type": "code",
   "execution_count": 4,
   "metadata": {},
   "outputs": [],
   "source": [
    "class Solution:\n",
    "    def findCircleNum(self, isConnected):\n",
    "        visited=[]\n",
    "        provinces=0\n",
    "        stack=[]\n",
    "        n=len(isConnected)\n",
    "        for i in range(n):\n",
    "            if i not in visited:\n",
    "                provinces+=1\n",
    "                stack.append(i)\n",
    "                while stack:\n",
    "                    city=stack.pop(0)\n",
    "                    for j in range(n):\n",
    "                        if isConnected[city][j]==1:\n",
    "                            if j not in visited:\n",
    "                                visited.append(j)\n",
    "                                stack.append(j)\n",
    "        return provinces"
   ]
  },
  {
   "cell_type": "markdown",
   "metadata": {},
   "source": [
    "Exercise 1615. Maximal Network Rank"
   ]
  },
  {
   "cell_type": "code",
   "execution_count": 20,
   "metadata": {},
   "outputs": [],
   "source": [
    "class Solution:\n",
    "    def maximalNetworkRank(self, n, roads):\n",
    "        links=[[i,0] for i in range(n)]\n",
    "        for i,j in roads:\n",
    "            links[i][1]+=1\n",
    "            links[j][1]+=1\n",
    "        links.sort(key=lambda x: x[1], reverse=True)\n",
    "        links2=[[city,link] for city, link in links if link>=links[1][1]]\n",
    "        res=0\n",
    "        for i in range(len(links2)-1):\n",
    "            for j in range(i+1,len(links2)):\n",
    "                res=max(res,links2[i][1]+links2[j][1]-([links[i][0],links[j][0]] in roads or [links[j][0],links[i][0]] in roads))\n",
    "        return res"
   ]
  },
  {
   "cell_type": "code",
   "execution_count": null,
   "metadata": {},
   "outputs": [],
   "source": []
  }
 ],
 "metadata": {
  "kernelspec": {
   "display_name": "Python 3",
   "language": "python",
   "name": "python3"
  },
  "language_info": {
   "codemirror_mode": {
    "name": "ipython",
    "version": 3
   },
   "file_extension": ".py",
   "mimetype": "text/x-python",
   "name": "python",
   "nbconvert_exporter": "python",
   "pygments_lexer": "ipython3",
   "version": "3.6.5"
  }
 },
 "nbformat": 4,
 "nbformat_minor": 2
}
